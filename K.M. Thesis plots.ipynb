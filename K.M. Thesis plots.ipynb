{
 "cells": [
  {
   "cell_type": "code",
   "execution_count": 1,
   "metadata": {},
   "outputs": [],
   "source": [
    "# Packages needed for plots and analysis. \n",
    "import numpy as np\n",
    "import matplotlib.pyplot as plt\n",
    "import pandas as pd\n",
    "import glob\n",
    "import itertools as it\n",
    "import seaborn as sns\n",
    "from pyrolite.plot import pyroplot\n",
    "import plotly.express as px\n",
    "from scipy import stats\n",
    "from matplotlib.ticker import ScalarFormatter\n",
    "import matplotlib.ticker as ticker"
   ]
  },
  {
   "cell_type": "code",
   "execution_count": 2,
   "metadata": {},
   "outputs": [
    {
     "data": {
      "text/html": [
       "<div>\n",
       "<style scoped>\n",
       "    .dataframe tbody tr th:only-of-type {\n",
       "        vertical-align: middle;\n",
       "    }\n",
       "\n",
       "    .dataframe tbody tr th {\n",
       "        vertical-align: top;\n",
       "    }\n",
       "\n",
       "    .dataframe thead th {\n",
       "        text-align: right;\n",
       "    }\n",
       "</style>\n",
       "<table border=\"1\" class=\"dataframe\">\n",
       "  <thead>\n",
       "    <tr style=\"text-align: right;\">\n",
       "      <th></th>\n",
       "      <th>Sample</th>\n",
       "      <th>Material</th>\n",
       "      <th>SiO2</th>\n",
       "      <th>TiO2</th>\n",
       "      <th>Al2O3</th>\n",
       "      <th>Fe2O3</th>\n",
       "      <th>MnO</th>\n",
       "      <th>MgO</th>\n",
       "      <th>CaO</th>\n",
       "      <th>Na2O</th>\n",
       "      <th>K2O</th>\n",
       "      <th>P2O5</th>\n",
       "      <th>Total %</th>\n",
       "      <th>Ba</th>\n",
       "      <th>Rb</th>\n",
       "      <th>Sr</th>\n",
       "      <th>V</th>\n",
       "      <th>Y</th>\n",
       "      <th>Zn</th>\n",
       "      <th>Zr</th>\n",
       "    </tr>\n",
       "  </thead>\n",
       "  <tbody>\n",
       "    <tr>\n",
       "      <th>0</th>\n",
       "      <td>MST06</td>\n",
       "      <td>Oven Slag</td>\n",
       "      <td>21.50</td>\n",
       "      <td>0.23</td>\n",
       "      <td>4.49</td>\n",
       "      <td>63.27</td>\n",
       "      <td>2.47</td>\n",
       "      <td>0.80</td>\n",
       "      <td>2.46</td>\n",
       "      <td>0.45</td>\n",
       "      <td>1.52</td>\n",
       "      <td>0.61</td>\n",
       "      <td>99.65</td>\n",
       "      <td>709</td>\n",
       "      <td>56</td>\n",
       "      <td>117</td>\n",
       "      <td>47</td>\n",
       "      <td>40</td>\n",
       "      <td>9</td>\n",
       "      <td>139</td>\n",
       "    </tr>\n",
       "    <tr>\n",
       "      <th>1</th>\n",
       "      <td>MST07</td>\n",
       "      <td>Oven Slag</td>\n",
       "      <td>22.16</td>\n",
       "      <td>0.36</td>\n",
       "      <td>6.00</td>\n",
       "      <td>63.65</td>\n",
       "      <td>4.94</td>\n",
       "      <td>1.17</td>\n",
       "      <td>3.08</td>\n",
       "      <td>0.11</td>\n",
       "      <td>2.72</td>\n",
       "      <td>0.24</td>\n",
       "      <td>99.47</td>\n",
       "      <td>1046</td>\n",
       "      <td>190</td>\n",
       "      <td>305</td>\n",
       "      <td>61</td>\n",
       "      <td>25</td>\n",
       "      <td>125</td>\n",
       "      <td>528</td>\n",
       "    </tr>\n",
       "    <tr>\n",
       "      <th>2</th>\n",
       "      <td>MST08</td>\n",
       "      <td>Oven Slag</td>\n",
       "      <td>23.41</td>\n",
       "      <td>0.36</td>\n",
       "      <td>6.42</td>\n",
       "      <td>54.46</td>\n",
       "      <td>4.62</td>\n",
       "      <td>1.28</td>\n",
       "      <td>3.21</td>\n",
       "      <td>0.11</td>\n",
       "      <td>2.72</td>\n",
       "      <td>0.25</td>\n",
       "      <td>99.60</td>\n",
       "      <td>1082</td>\n",
       "      <td>146</td>\n",
       "      <td>263</td>\n",
       "      <td>59</td>\n",
       "      <td>16</td>\n",
       "      <td>83</td>\n",
       "      <td>263</td>\n",
       "    </tr>\n",
       "    <tr>\n",
       "      <th>3</th>\n",
       "      <td>MST09</td>\n",
       "      <td>Oven Slag</td>\n",
       "      <td>20.46</td>\n",
       "      <td>0.17</td>\n",
       "      <td>2.74</td>\n",
       "      <td>76.69</td>\n",
       "      <td>1.14</td>\n",
       "      <td>0.49</td>\n",
       "      <td>1.33</td>\n",
       "      <td>0.11</td>\n",
       "      <td>0.49</td>\n",
       "      <td>0.23</td>\n",
       "      <td>99.79</td>\n",
       "      <td>207</td>\n",
       "      <td>27</td>\n",
       "      <td>150</td>\n",
       "      <td>21</td>\n",
       "      <td>0</td>\n",
       "      <td>106</td>\n",
       "      <td>132</td>\n",
       "    </tr>\n",
       "    <tr>\n",
       "      <th>4</th>\n",
       "      <td>MST10</td>\n",
       "      <td>Oven Slag</td>\n",
       "      <td>31.26</td>\n",
       "      <td>0.34</td>\n",
       "      <td>6.21</td>\n",
       "      <td>51.80</td>\n",
       "      <td>3.41</td>\n",
       "      <td>1.14</td>\n",
       "      <td>2.18</td>\n",
       "      <td>0.64</td>\n",
       "      <td>1.38</td>\n",
       "      <td>0.36</td>\n",
       "      <td>99.72</td>\n",
       "      <td>590</td>\n",
       "      <td>57</td>\n",
       "      <td>109</td>\n",
       "      <td>57</td>\n",
       "      <td>69</td>\n",
       "      <td>10</td>\n",
       "      <td>149</td>\n",
       "    </tr>\n",
       "    <tr>\n",
       "      <th>5</th>\n",
       "      <td>MST11</td>\n",
       "      <td>Oven Slag</td>\n",
       "      <td>26.49</td>\n",
       "      <td>0.37</td>\n",
       "      <td>5.43</td>\n",
       "      <td>48.14</td>\n",
       "      <td>7.00</td>\n",
       "      <td>0.85</td>\n",
       "      <td>2.74</td>\n",
       "      <td>0.17</td>\n",
       "      <td>2.78</td>\n",
       "      <td>0.39</td>\n",
       "      <td>99.46</td>\n",
       "      <td>539</td>\n",
       "      <td>211</td>\n",
       "      <td>466</td>\n",
       "      <td>54</td>\n",
       "      <td>34</td>\n",
       "      <td>169</td>\n",
       "      <td>441</td>\n",
       "    </tr>\n",
       "    <tr>\n",
       "      <th>6</th>\n",
       "      <td>MST12</td>\n",
       "      <td>Smithing Slag</td>\n",
       "      <td>22.33</td>\n",
       "      <td>0.26</td>\n",
       "      <td>5.50</td>\n",
       "      <td>65.10</td>\n",
       "      <td>2.58</td>\n",
       "      <td>1.06</td>\n",
       "      <td>2.42</td>\n",
       "      <td>0.73</td>\n",
       "      <td>1.94</td>\n",
       "      <td>0.21</td>\n",
       "      <td>99.22</td>\n",
       "      <td>681</td>\n",
       "      <td>60</td>\n",
       "      <td>92</td>\n",
       "      <td>48</td>\n",
       "      <td>34</td>\n",
       "      <td>4</td>\n",
       "      <td>130</td>\n",
       "    </tr>\n",
       "    <tr>\n",
       "      <th>7</th>\n",
       "      <td>MST13</td>\n",
       "      <td>Smithing Slag</td>\n",
       "      <td>16.20</td>\n",
       "      <td>0.11</td>\n",
       "      <td>1.46</td>\n",
       "      <td>77.00</td>\n",
       "      <td>0.26</td>\n",
       "      <td>0.61</td>\n",
       "      <td>2.79</td>\n",
       "      <td>0.25</td>\n",
       "      <td>0.56</td>\n",
       "      <td>0.21</td>\n",
       "      <td>99.77</td>\n",
       "      <td>258</td>\n",
       "      <td>35</td>\n",
       "      <td>317</td>\n",
       "      <td>25</td>\n",
       "      <td>0</td>\n",
       "      <td>121</td>\n",
       "      <td>142</td>\n",
       "    </tr>\n",
       "    <tr>\n",
       "      <th>8</th>\n",
       "      <td>MST14</td>\n",
       "      <td>Smithing Slag</td>\n",
       "      <td>19.16</td>\n",
       "      <td>0.22</td>\n",
       "      <td>3.92</td>\n",
       "      <td>69.11</td>\n",
       "      <td>2.55</td>\n",
       "      <td>0.68</td>\n",
       "      <td>1.35</td>\n",
       "      <td>0.19</td>\n",
       "      <td>1.73</td>\n",
       "      <td>0.28</td>\n",
       "      <td>99.74</td>\n",
       "      <td>373</td>\n",
       "      <td>124</td>\n",
       "      <td>154</td>\n",
       "      <td>32</td>\n",
       "      <td>14</td>\n",
       "      <td>105</td>\n",
       "      <td>202</td>\n",
       "    </tr>\n",
       "    <tr>\n",
       "      <th>9</th>\n",
       "      <td>MST15</td>\n",
       "      <td>Smithing Slag</td>\n",
       "      <td>6.94</td>\n",
       "      <td>0.04</td>\n",
       "      <td>0.78</td>\n",
       "      <td>79.27</td>\n",
       "      <td>0.10</td>\n",
       "      <td>0.20</td>\n",
       "      <td>1.13</td>\n",
       "      <td>0.18</td>\n",
       "      <td>0.22</td>\n",
       "      <td>0.26</td>\n",
       "      <td>99.83</td>\n",
       "      <td>142</td>\n",
       "      <td>24</td>\n",
       "      <td>94</td>\n",
       "      <td>5</td>\n",
       "      <td>29</td>\n",
       "      <td>90</td>\n",
       "      <td>52</td>\n",
       "    </tr>\n",
       "    <tr>\n",
       "      <th>10</th>\n",
       "      <td>MST17</td>\n",
       "      <td>Plate Slag</td>\n",
       "      <td>22.60</td>\n",
       "      <td>0.35</td>\n",
       "      <td>5.88</td>\n",
       "      <td>64.31</td>\n",
       "      <td>4.37</td>\n",
       "      <td>1.01</td>\n",
       "      <td>2.21</td>\n",
       "      <td>0.14</td>\n",
       "      <td>2.63</td>\n",
       "      <td>0.20</td>\n",
       "      <td>99.61</td>\n",
       "      <td>779</td>\n",
       "      <td>150</td>\n",
       "      <td>356</td>\n",
       "      <td>56</td>\n",
       "      <td>36</td>\n",
       "      <td>150</td>\n",
       "      <td>295</td>\n",
       "    </tr>\n",
       "    <tr>\n",
       "      <th>11</th>\n",
       "      <td>MST18</td>\n",
       "      <td>Plate Slag</td>\n",
       "      <td>18.35</td>\n",
       "      <td>0.16</td>\n",
       "      <td>2.97</td>\n",
       "      <td>77.79</td>\n",
       "      <td>1.45</td>\n",
       "      <td>0.40</td>\n",
       "      <td>1.54</td>\n",
       "      <td>0.22</td>\n",
       "      <td>1.20</td>\n",
       "      <td>0.14</td>\n",
       "      <td>99.76</td>\n",
       "      <td>358</td>\n",
       "      <td>63</td>\n",
       "      <td>143</td>\n",
       "      <td>25</td>\n",
       "      <td>25</td>\n",
       "      <td>77</td>\n",
       "      <td>249</td>\n",
       "    </tr>\n",
       "    <tr>\n",
       "      <th>12</th>\n",
       "      <td>MST19</td>\n",
       "      <td>Plate Slag</td>\n",
       "      <td>15.83</td>\n",
       "      <td>0.10</td>\n",
       "      <td>1.74</td>\n",
       "      <td>86.50</td>\n",
       "      <td>0.45</td>\n",
       "      <td>0.27</td>\n",
       "      <td>0.84</td>\n",
       "      <td>0.17</td>\n",
       "      <td>0.28</td>\n",
       "      <td>0.18</td>\n",
       "      <td>99.82</td>\n",
       "      <td>96</td>\n",
       "      <td>27</td>\n",
       "      <td>95</td>\n",
       "      <td>11</td>\n",
       "      <td>0</td>\n",
       "      <td>94</td>\n",
       "      <td>163</td>\n",
       "    </tr>\n",
       "    <tr>\n",
       "      <th>13</th>\n",
       "      <td>MST20</td>\n",
       "      <td>Plate Slag</td>\n",
       "      <td>20.85</td>\n",
       "      <td>0.23</td>\n",
       "      <td>3.77</td>\n",
       "      <td>55.54</td>\n",
       "      <td>3.55</td>\n",
       "      <td>1.17</td>\n",
       "      <td>1.86</td>\n",
       "      <td>0.10</td>\n",
       "      <td>0.99</td>\n",
       "      <td>0.22</td>\n",
       "      <td>99.76</td>\n",
       "      <td>312</td>\n",
       "      <td>61</td>\n",
       "      <td>180</td>\n",
       "      <td>35</td>\n",
       "      <td>37</td>\n",
       "      <td>102</td>\n",
       "      <td>160</td>\n",
       "    </tr>\n",
       "    <tr>\n",
       "      <th>14</th>\n",
       "      <td>MST21</td>\n",
       "      <td>Plate Slag</td>\n",
       "      <td>12.42</td>\n",
       "      <td>0.16</td>\n",
       "      <td>3.22</td>\n",
       "      <td>82.34</td>\n",
       "      <td>1.59</td>\n",
       "      <td>0.70</td>\n",
       "      <td>3.14</td>\n",
       "      <td>0.51</td>\n",
       "      <td>1.24</td>\n",
       "      <td>0.17</td>\n",
       "      <td>99.71</td>\n",
       "      <td>665</td>\n",
       "      <td>56</td>\n",
       "      <td>231</td>\n",
       "      <td>28</td>\n",
       "      <td>0</td>\n",
       "      <td>92</td>\n",
       "      <td>189</td>\n",
       "    </tr>\n",
       "    <tr>\n",
       "      <th>15</th>\n",
       "      <td>MST22</td>\n",
       "      <td>Plate Slag</td>\n",
       "      <td>33.47</td>\n",
       "      <td>0.40</td>\n",
       "      <td>7.96</td>\n",
       "      <td>47.26</td>\n",
       "      <td>6.53</td>\n",
       "      <td>1.56</td>\n",
       "      <td>3.41</td>\n",
       "      <td>0.47</td>\n",
       "      <td>3.05</td>\n",
       "      <td>0.38</td>\n",
       "      <td>99.77</td>\n",
       "      <td>1024</td>\n",
       "      <td>88</td>\n",
       "      <td>240</td>\n",
       "      <td>55</td>\n",
       "      <td>45</td>\n",
       "      <td>0</td>\n",
       "      <td>314</td>\n",
       "    </tr>\n",
       "    <tr>\n",
       "      <th>16</th>\n",
       "      <td>MST23</td>\n",
       "      <td>Plate Slag</td>\n",
       "      <td>31.24</td>\n",
       "      <td>0.42</td>\n",
       "      <td>8.59</td>\n",
       "      <td>46.97</td>\n",
       "      <td>6.93</td>\n",
       "      <td>1.64</td>\n",
       "      <td>3.59</td>\n",
       "      <td>0.72</td>\n",
       "      <td>3.35</td>\n",
       "      <td>0.39</td>\n",
       "      <td>99.40</td>\n",
       "      <td>1051</td>\n",
       "      <td>119</td>\n",
       "      <td>293</td>\n",
       "      <td>65</td>\n",
       "      <td>33</td>\n",
       "      <td>8</td>\n",
       "      <td>369</td>\n",
       "    </tr>\n",
       "    <tr>\n",
       "      <th>17</th>\n",
       "      <td>MST24</td>\n",
       "      <td>Plate Slag</td>\n",
       "      <td>23.68</td>\n",
       "      <td>0.32</td>\n",
       "      <td>6.59</td>\n",
       "      <td>52.69</td>\n",
       "      <td>3.16</td>\n",
       "      <td>2.26</td>\n",
       "      <td>2.47</td>\n",
       "      <td>0.27</td>\n",
       "      <td>2.93</td>\n",
       "      <td>0.19</td>\n",
       "      <td>99.66</td>\n",
       "      <td>506</td>\n",
       "      <td>85</td>\n",
       "      <td>102</td>\n",
       "      <td>55</td>\n",
       "      <td>46</td>\n",
       "      <td>0</td>\n",
       "      <td>247</td>\n",
       "    </tr>\n",
       "    <tr>\n",
       "      <th>18</th>\n",
       "      <td>MST25</td>\n",
       "      <td>Plate Slag</td>\n",
       "      <td>30.65</td>\n",
       "      <td>0.38</td>\n",
       "      <td>8.85</td>\n",
       "      <td>47.56</td>\n",
       "      <td>7.61</td>\n",
       "      <td>1.43</td>\n",
       "      <td>2.39</td>\n",
       "      <td>0.41</td>\n",
       "      <td>2.96</td>\n",
       "      <td>0.61</td>\n",
       "      <td>99.66</td>\n",
       "      <td>658</td>\n",
       "      <td>107</td>\n",
       "      <td>314</td>\n",
       "      <td>78</td>\n",
       "      <td>27</td>\n",
       "      <td>31</td>\n",
       "      <td>162</td>\n",
       "    </tr>\n",
       "    <tr>\n",
       "      <th>19</th>\n",
       "      <td>MST26</td>\n",
       "      <td>Plate Slag</td>\n",
       "      <td>28.13</td>\n",
       "      <td>0.34</td>\n",
       "      <td>8.27</td>\n",
       "      <td>57.80</td>\n",
       "      <td>3.44</td>\n",
       "      <td>1.40</td>\n",
       "      <td>2.11</td>\n",
       "      <td>0.28</td>\n",
       "      <td>2.71</td>\n",
       "      <td>0.24</td>\n",
       "      <td>99.68</td>\n",
       "      <td>674</td>\n",
       "      <td>80</td>\n",
       "      <td>104</td>\n",
       "      <td>52</td>\n",
       "      <td>58</td>\n",
       "      <td>10</td>\n",
       "      <td>178</td>\n",
       "    </tr>\n",
       "    <tr>\n",
       "      <th>20</th>\n",
       "      <td>MST28</td>\n",
       "      <td>Plate Slag</td>\n",
       "      <td>27.16</td>\n",
       "      <td>0.32</td>\n",
       "      <td>7.98</td>\n",
       "      <td>56.57</td>\n",
       "      <td>5.54</td>\n",
       "      <td>1.31</td>\n",
       "      <td>2.91</td>\n",
       "      <td>0.22</td>\n",
       "      <td>2.49</td>\n",
       "      <td>0.28</td>\n",
       "      <td>99.54</td>\n",
       "      <td>734</td>\n",
       "      <td>87</td>\n",
       "      <td>161</td>\n",
       "      <td>57</td>\n",
       "      <td>42</td>\n",
       "      <td>9</td>\n",
       "      <td>146</td>\n",
       "    </tr>\n",
       "    <tr>\n",
       "      <th>21</th>\n",
       "      <td>MST29</td>\n",
       "      <td>Plate Slag</td>\n",
       "      <td>30.13</td>\n",
       "      <td>0.28</td>\n",
       "      <td>5.47</td>\n",
       "      <td>59.31</td>\n",
       "      <td>3.52</td>\n",
       "      <td>1.18</td>\n",
       "      <td>1.57</td>\n",
       "      <td>0.36</td>\n",
       "      <td>1.46</td>\n",
       "      <td>0.28</td>\n",
       "      <td>99.53</td>\n",
       "      <td>462</td>\n",
       "      <td>54</td>\n",
       "      <td>58</td>\n",
       "      <td>46</td>\n",
       "      <td>73</td>\n",
       "      <td>0</td>\n",
       "      <td>115</td>\n",
       "    </tr>\n",
       "    <tr>\n",
       "      <th>22</th>\n",
       "      <td>MST30</td>\n",
       "      <td>Flow Slag</td>\n",
       "      <td>29.52</td>\n",
       "      <td>0.33</td>\n",
       "      <td>5.73</td>\n",
       "      <td>57.20</td>\n",
       "      <td>4.53</td>\n",
       "      <td>1.89</td>\n",
       "      <td>3.02</td>\n",
       "      <td>0.28</td>\n",
       "      <td>1.67</td>\n",
       "      <td>0.30</td>\n",
       "      <td>99.50</td>\n",
       "      <td>471</td>\n",
       "      <td>69</td>\n",
       "      <td>169</td>\n",
       "      <td>53</td>\n",
       "      <td>48</td>\n",
       "      <td>10</td>\n",
       "      <td>424</td>\n",
       "    </tr>\n",
       "    <tr>\n",
       "      <th>23</th>\n",
       "      <td>MST31</td>\n",
       "      <td>Flow Slag</td>\n",
       "      <td>31.10</td>\n",
       "      <td>0.32</td>\n",
       "      <td>6.36</td>\n",
       "      <td>52.80</td>\n",
       "      <td>4.55</td>\n",
       "      <td>1.54</td>\n",
       "      <td>3.51</td>\n",
       "      <td>0.33</td>\n",
       "      <td>2.86</td>\n",
       "      <td>0.32</td>\n",
       "      <td>99.63</td>\n",
       "      <td>603</td>\n",
       "      <td>87</td>\n",
       "      <td>211</td>\n",
       "      <td>47</td>\n",
       "      <td>27</td>\n",
       "      <td>0</td>\n",
       "      <td>232</td>\n",
       "    </tr>\n",
       "    <tr>\n",
       "      <th>24</th>\n",
       "      <td>MST32</td>\n",
       "      <td>Flow Slag</td>\n",
       "      <td>36.72</td>\n",
       "      <td>0.37</td>\n",
       "      <td>6.78</td>\n",
       "      <td>47.72</td>\n",
       "      <td>4.41</td>\n",
       "      <td>1.86</td>\n",
       "      <td>3.52</td>\n",
       "      <td>0.22</td>\n",
       "      <td>1.88</td>\n",
       "      <td>0.28</td>\n",
       "      <td>99.51</td>\n",
       "      <td>529</td>\n",
       "      <td>71</td>\n",
       "      <td>162</td>\n",
       "      <td>55</td>\n",
       "      <td>59</td>\n",
       "      <td>0</td>\n",
       "      <td>352</td>\n",
       "    </tr>\n",
       "    <tr>\n",
       "      <th>25</th>\n",
       "      <td>MST33</td>\n",
       "      <td>Flow Slag</td>\n",
       "      <td>20.65</td>\n",
       "      <td>0.31</td>\n",
       "      <td>6.19</td>\n",
       "      <td>65.75</td>\n",
       "      <td>3.77</td>\n",
       "      <td>2.07</td>\n",
       "      <td>2.44</td>\n",
       "      <td>0.24</td>\n",
       "      <td>3.05</td>\n",
       "      <td>0.27</td>\n",
       "      <td>99.65</td>\n",
       "      <td>531</td>\n",
       "      <td>96</td>\n",
       "      <td>111</td>\n",
       "      <td>44</td>\n",
       "      <td>61</td>\n",
       "      <td>44</td>\n",
       "      <td>256</td>\n",
       "    </tr>\n",
       "    <tr>\n",
       "      <th>26</th>\n",
       "      <td>MST34</td>\n",
       "      <td>Flow Slag</td>\n",
       "      <td>24.35</td>\n",
       "      <td>0.20</td>\n",
       "      <td>3.40</td>\n",
       "      <td>65.34</td>\n",
       "      <td>1.28</td>\n",
       "      <td>0.69</td>\n",
       "      <td>2.44</td>\n",
       "      <td>0.27</td>\n",
       "      <td>0.89</td>\n",
       "      <td>0.33</td>\n",
       "      <td>99.73</td>\n",
       "      <td>672</td>\n",
       "      <td>26</td>\n",
       "      <td>60</td>\n",
       "      <td>38</td>\n",
       "      <td>35</td>\n",
       "      <td>7</td>\n",
       "      <td>160</td>\n",
       "    </tr>\n",
       "    <tr>\n",
       "      <th>27</th>\n",
       "      <td>MST35</td>\n",
       "      <td>Flow Slag</td>\n",
       "      <td>31.39</td>\n",
       "      <td>0.39</td>\n",
       "      <td>8.27</td>\n",
       "      <td>49.69</td>\n",
       "      <td>3.94</td>\n",
       "      <td>1.56</td>\n",
       "      <td>3.83</td>\n",
       "      <td>0.26</td>\n",
       "      <td>4.03</td>\n",
       "      <td>0.19</td>\n",
       "      <td>99.39</td>\n",
       "      <td>1093</td>\n",
       "      <td>164</td>\n",
       "      <td>207</td>\n",
       "      <td>70</td>\n",
       "      <td>69</td>\n",
       "      <td>0</td>\n",
       "      <td>391</td>\n",
       "    </tr>\n",
       "    <tr>\n",
       "      <th>28</th>\n",
       "      <td>MST36</td>\n",
       "      <td>Flow Slag</td>\n",
       "      <td>23.98</td>\n",
       "      <td>0.24</td>\n",
       "      <td>3.63</td>\n",
       "      <td>66.65</td>\n",
       "      <td>0.73</td>\n",
       "      <td>1.16</td>\n",
       "      <td>5.10</td>\n",
       "      <td>0.59</td>\n",
       "      <td>1.19</td>\n",
       "      <td>0.36</td>\n",
       "      <td>99.56</td>\n",
       "      <td>454</td>\n",
       "      <td>42</td>\n",
       "      <td>160</td>\n",
       "      <td>37</td>\n",
       "      <td>43</td>\n",
       "      <td>3</td>\n",
       "      <td>391</td>\n",
       "    </tr>\n",
       "    <tr>\n",
       "      <th>29</th>\n",
       "      <td>MST38</td>\n",
       "      <td>Flow Slag</td>\n",
       "      <td>21.95</td>\n",
       "      <td>0.23</td>\n",
       "      <td>3.85</td>\n",
       "      <td>73.20</td>\n",
       "      <td>1.60</td>\n",
       "      <td>0.73</td>\n",
       "      <td>1.97</td>\n",
       "      <td>0.41</td>\n",
       "      <td>1.38</td>\n",
       "      <td>0.43</td>\n",
       "      <td>99.60</td>\n",
       "      <td>455</td>\n",
       "      <td>46</td>\n",
       "      <td>149</td>\n",
       "      <td>35</td>\n",
       "      <td>0</td>\n",
       "      <td>10</td>\n",
       "      <td>94</td>\n",
       "    </tr>\n",
       "    <tr>\n",
       "      <th>30</th>\n",
       "      <td>MST39</td>\n",
       "      <td>Flow Slag</td>\n",
       "      <td>15.94</td>\n",
       "      <td>0.21</td>\n",
       "      <td>4.07</td>\n",
       "      <td>77.75</td>\n",
       "      <td>2.80</td>\n",
       "      <td>0.74</td>\n",
       "      <td>2.01</td>\n",
       "      <td>0.25</td>\n",
       "      <td>1.72</td>\n",
       "      <td>0.36</td>\n",
       "      <td>99.73</td>\n",
       "      <td>451</td>\n",
       "      <td>69</td>\n",
       "      <td>216</td>\n",
       "      <td>34</td>\n",
       "      <td>0</td>\n",
       "      <td>0</td>\n",
       "      <td>98</td>\n",
       "    </tr>\n",
       "    <tr>\n",
       "      <th>31</th>\n",
       "      <td>MST40</td>\n",
       "      <td>Flow Slag</td>\n",
       "      <td>29.33</td>\n",
       "      <td>0.43</td>\n",
       "      <td>8.03</td>\n",
       "      <td>51.07</td>\n",
       "      <td>4.99</td>\n",
       "      <td>1.81</td>\n",
       "      <td>3.39</td>\n",
       "      <td>0.38</td>\n",
       "      <td>4.20</td>\n",
       "      <td>0.27</td>\n",
       "      <td>99.33</td>\n",
       "      <td>1341</td>\n",
       "      <td>144</td>\n",
       "      <td>237</td>\n",
       "      <td>66</td>\n",
       "      <td>0</td>\n",
       "      <td>0</td>\n",
       "      <td>398</td>\n",
       "    </tr>\n",
       "    <tr>\n",
       "      <th>32</th>\n",
       "      <td>MST41</td>\n",
       "      <td>Flow Slag</td>\n",
       "      <td>24.40</td>\n",
       "      <td>0.40</td>\n",
       "      <td>7.20</td>\n",
       "      <td>61.61</td>\n",
       "      <td>3.53</td>\n",
       "      <td>1.40</td>\n",
       "      <td>2.49</td>\n",
       "      <td>0.30</td>\n",
       "      <td>3.18</td>\n",
       "      <td>0.24</td>\n",
       "      <td>99.39</td>\n",
       "      <td>1018</td>\n",
       "      <td>95</td>\n",
       "      <td>168</td>\n",
       "      <td>70</td>\n",
       "      <td>0</td>\n",
       "      <td>112</td>\n",
       "      <td>464</td>\n",
       "    </tr>\n",
       "    <tr>\n",
       "      <th>33</th>\n",
       "      <td>MST42</td>\n",
       "      <td>Flow Slag</td>\n",
       "      <td>28.50</td>\n",
       "      <td>0.34</td>\n",
       "      <td>6.10</td>\n",
       "      <td>56.57</td>\n",
       "      <td>3.13</td>\n",
       "      <td>1.36</td>\n",
       "      <td>4.25</td>\n",
       "      <td>0.26</td>\n",
       "      <td>2.79</td>\n",
       "      <td>0.27</td>\n",
       "      <td>99.01</td>\n",
       "      <td>994</td>\n",
       "      <td>86</td>\n",
       "      <td>222</td>\n",
       "      <td>51</td>\n",
       "      <td>47</td>\n",
       "      <td>0</td>\n",
       "      <td>836</td>\n",
       "    </tr>\n",
       "    <tr>\n",
       "      <th>34</th>\n",
       "      <td>MST43</td>\n",
       "      <td>Flow Slag</td>\n",
       "      <td>28.25</td>\n",
       "      <td>0.34</td>\n",
       "      <td>8.62</td>\n",
       "      <td>49.48</td>\n",
       "      <td>9.15</td>\n",
       "      <td>1.46</td>\n",
       "      <td>2.00</td>\n",
       "      <td>0.33</td>\n",
       "      <td>3.66</td>\n",
       "      <td>0.56</td>\n",
       "      <td>99.65</td>\n",
       "      <td>546</td>\n",
       "      <td>151</td>\n",
       "      <td>287</td>\n",
       "      <td>68</td>\n",
       "      <td>42</td>\n",
       "      <td>19</td>\n",
       "      <td>194</td>\n",
       "    </tr>\n",
       "    <tr>\n",
       "      <th>35</th>\n",
       "      <td>MST05</td>\n",
       "      <td>Ore</td>\n",
       "      <td>8.44</td>\n",
       "      <td>0.14</td>\n",
       "      <td>2.79</td>\n",
       "      <td>72.00</td>\n",
       "      <td>5.74</td>\n",
       "      <td>0.45</td>\n",
       "      <td>1.29</td>\n",
       "      <td>0.06</td>\n",
       "      <td>0.99</td>\n",
       "      <td>0.67</td>\n",
       "      <td>99.70</td>\n",
       "      <td>1006</td>\n",
       "      <td>94</td>\n",
       "      <td>332</td>\n",
       "      <td>63</td>\n",
       "      <td>44</td>\n",
       "      <td>137</td>\n",
       "      <td>94</td>\n",
       "    </tr>\n",
       "    <tr>\n",
       "      <th>36</th>\n",
       "      <td>MST02</td>\n",
       "      <td>Ore</td>\n",
       "      <td>17.70</td>\n",
       "      <td>0.24</td>\n",
       "      <td>3.32</td>\n",
       "      <td>70.68</td>\n",
       "      <td>3.85</td>\n",
       "      <td>0.41</td>\n",
       "      <td>0.52</td>\n",
       "      <td>0.09</td>\n",
       "      <td>1.43</td>\n",
       "      <td>0.12</td>\n",
       "      <td>99.62</td>\n",
       "      <td>319</td>\n",
       "      <td>98</td>\n",
       "      <td>156</td>\n",
       "      <td>36</td>\n",
       "      <td>69</td>\n",
       "      <td>206</td>\n",
       "      <td>491</td>\n",
       "    </tr>\n",
       "    <tr>\n",
       "      <th>37</th>\n",
       "      <td>MST03</td>\n",
       "      <td>Ore</td>\n",
       "      <td>10.13</td>\n",
       "      <td>0.19</td>\n",
       "      <td>4.01</td>\n",
       "      <td>70.78</td>\n",
       "      <td>2.07</td>\n",
       "      <td>0.58</td>\n",
       "      <td>0.89</td>\n",
       "      <td>0.10</td>\n",
       "      <td>1.47</td>\n",
       "      <td>0.24</td>\n",
       "      <td>99.75</td>\n",
       "      <td>610</td>\n",
       "      <td>139</td>\n",
       "      <td>123</td>\n",
       "      <td>44</td>\n",
       "      <td>40</td>\n",
       "      <td>221</td>\n",
       "      <td>93</td>\n",
       "    </tr>\n",
       "  </tbody>\n",
       "</table>\n",
       "</div>"
      ],
      "text/plain": [
       "   Sample       Material   SiO2  TiO2  Al2O3  Fe2O3   MnO   MgO   CaO  Na2O  \\\n",
       "0   MST06      Oven Slag  21.50  0.23   4.49  63.27  2.47  0.80  2.46  0.45   \n",
       "1   MST07      Oven Slag  22.16  0.36   6.00  63.65  4.94  1.17  3.08  0.11   \n",
       "2   MST08      Oven Slag  23.41  0.36   6.42  54.46  4.62  1.28  3.21  0.11   \n",
       "3   MST09      Oven Slag  20.46  0.17   2.74  76.69  1.14  0.49  1.33  0.11   \n",
       "4   MST10      Oven Slag  31.26  0.34   6.21  51.80  3.41  1.14  2.18  0.64   \n",
       "5   MST11      Oven Slag  26.49  0.37   5.43  48.14  7.00  0.85  2.74  0.17   \n",
       "6   MST12  Smithing Slag  22.33  0.26   5.50  65.10  2.58  1.06  2.42  0.73   \n",
       "7   MST13  Smithing Slag  16.20  0.11   1.46  77.00  0.26  0.61  2.79  0.25   \n",
       "8   MST14  Smithing Slag  19.16  0.22   3.92  69.11  2.55  0.68  1.35  0.19   \n",
       "9   MST15  Smithing Slag   6.94  0.04   0.78  79.27  0.10  0.20  1.13  0.18   \n",
       "10  MST17     Plate Slag  22.60  0.35   5.88  64.31  4.37  1.01  2.21  0.14   \n",
       "11  MST18     Plate Slag  18.35  0.16   2.97  77.79  1.45  0.40  1.54  0.22   \n",
       "12  MST19     Plate Slag  15.83  0.10   1.74  86.50  0.45  0.27  0.84  0.17   \n",
       "13  MST20     Plate Slag  20.85  0.23   3.77  55.54  3.55  1.17  1.86  0.10   \n",
       "14  MST21     Plate Slag  12.42  0.16   3.22  82.34  1.59  0.70  3.14  0.51   \n",
       "15  MST22     Plate Slag  33.47  0.40   7.96  47.26  6.53  1.56  3.41  0.47   \n",
       "16  MST23     Plate Slag  31.24  0.42   8.59  46.97  6.93  1.64  3.59  0.72   \n",
       "17  MST24     Plate Slag  23.68  0.32   6.59  52.69  3.16  2.26  2.47  0.27   \n",
       "18  MST25     Plate Slag  30.65  0.38   8.85  47.56  7.61  1.43  2.39  0.41   \n",
       "19  MST26     Plate Slag  28.13  0.34   8.27  57.80  3.44  1.40  2.11  0.28   \n",
       "20  MST28     Plate Slag  27.16  0.32   7.98  56.57  5.54  1.31  2.91  0.22   \n",
       "21  MST29     Plate Slag  30.13  0.28   5.47  59.31  3.52  1.18  1.57  0.36   \n",
       "22  MST30      Flow Slag  29.52  0.33   5.73  57.20  4.53  1.89  3.02  0.28   \n",
       "23  MST31      Flow Slag  31.10  0.32   6.36  52.80  4.55  1.54  3.51  0.33   \n",
       "24  MST32      Flow Slag  36.72  0.37   6.78  47.72  4.41  1.86  3.52  0.22   \n",
       "25  MST33      Flow Slag  20.65  0.31   6.19  65.75  3.77  2.07  2.44  0.24   \n",
       "26  MST34      Flow Slag  24.35  0.20   3.40  65.34  1.28  0.69  2.44  0.27   \n",
       "27  MST35      Flow Slag  31.39  0.39   8.27  49.69  3.94  1.56  3.83  0.26   \n",
       "28  MST36      Flow Slag  23.98  0.24   3.63  66.65  0.73  1.16  5.10  0.59   \n",
       "29  MST38      Flow Slag  21.95  0.23   3.85  73.20  1.60  0.73  1.97  0.41   \n",
       "30  MST39      Flow Slag  15.94  0.21   4.07  77.75  2.80  0.74  2.01  0.25   \n",
       "31  MST40      Flow Slag  29.33  0.43   8.03  51.07  4.99  1.81  3.39  0.38   \n",
       "32  MST41      Flow Slag  24.40  0.40   7.20  61.61  3.53  1.40  2.49  0.30   \n",
       "33  MST42      Flow Slag  28.50  0.34   6.10  56.57  3.13  1.36  4.25  0.26   \n",
       "34  MST43      Flow Slag  28.25  0.34   8.62  49.48  9.15  1.46  2.00  0.33   \n",
       "35  MST05            Ore   8.44  0.14   2.79  72.00  5.74  0.45  1.29  0.06   \n",
       "36  MST02            Ore  17.70  0.24   3.32  70.68  3.85  0.41  0.52  0.09   \n",
       "37  MST03            Ore  10.13  0.19   4.01  70.78  2.07  0.58  0.89  0.10   \n",
       "\n",
       "     K2O  P2O5  Total %    Ba   Rb   Sr   V   Y   Zn   Zr  \n",
       "0   1.52  0.61    99.65   709   56  117  47  40    9  139  \n",
       "1   2.72  0.24    99.47  1046  190  305  61  25  125  528  \n",
       "2   2.72  0.25    99.60  1082  146  263  59  16   83  263  \n",
       "3   0.49  0.23    99.79   207   27  150  21   0  106  132  \n",
       "4   1.38  0.36    99.72   590   57  109  57  69   10  149  \n",
       "5   2.78  0.39    99.46   539  211  466  54  34  169  441  \n",
       "6   1.94  0.21    99.22   681   60   92  48  34    4  130  \n",
       "7   0.56  0.21    99.77   258   35  317  25   0  121  142  \n",
       "8   1.73  0.28    99.74   373  124  154  32  14  105  202  \n",
       "9   0.22  0.26    99.83   142   24   94   5  29   90   52  \n",
       "10  2.63  0.20    99.61   779  150  356  56  36  150  295  \n",
       "11  1.20  0.14    99.76   358   63  143  25  25   77  249  \n",
       "12  0.28  0.18    99.82    96   27   95  11   0   94  163  \n",
       "13  0.99  0.22    99.76   312   61  180  35  37  102  160  \n",
       "14  1.24  0.17    99.71   665   56  231  28   0   92  189  \n",
       "15  3.05  0.38    99.77  1024   88  240  55  45    0  314  \n",
       "16  3.35  0.39    99.40  1051  119  293  65  33    8  369  \n",
       "17  2.93  0.19    99.66   506   85  102  55  46    0  247  \n",
       "18  2.96  0.61    99.66   658  107  314  78  27   31  162  \n",
       "19  2.71  0.24    99.68   674   80  104  52  58   10  178  \n",
       "20  2.49  0.28    99.54   734   87  161  57  42    9  146  \n",
       "21  1.46  0.28    99.53   462   54   58  46  73    0  115  \n",
       "22  1.67  0.30    99.50   471   69  169  53  48   10  424  \n",
       "23  2.86  0.32    99.63   603   87  211  47  27    0  232  \n",
       "24  1.88  0.28    99.51   529   71  162  55  59    0  352  \n",
       "25  3.05  0.27    99.65   531   96  111  44  61   44  256  \n",
       "26  0.89  0.33    99.73   672   26   60  38  35    7  160  \n",
       "27  4.03  0.19    99.39  1093  164  207  70  69    0  391  \n",
       "28  1.19  0.36    99.56   454   42  160  37  43    3  391  \n",
       "29  1.38  0.43    99.60   455   46  149  35   0   10   94  \n",
       "30  1.72  0.36    99.73   451   69  216  34   0    0   98  \n",
       "31  4.20  0.27    99.33  1341  144  237  66   0    0  398  \n",
       "32  3.18  0.24    99.39  1018   95  168  70   0  112  464  \n",
       "33  2.79  0.27    99.01   994   86  222  51  47    0  836  \n",
       "34  3.66  0.56    99.65   546  151  287  68  42   19  194  \n",
       "35  0.99  0.67    99.70  1006   94  332  63  44  137   94  \n",
       "36  1.43  0.12    99.62   319   98  156  36  69  206  491  \n",
       "37  1.47  0.24    99.75   610  139  123  44  40  221   93  "
      ]
     },
     "execution_count": 2,
     "metadata": {},
     "output_type": "execute_result"
    }
   ],
   "source": [
    "\n",
    "df=pd.read_csv(\"./kajta_data.csv\", sep = \",\")\n",
    "df"
   ]
  },
  {
   "cell_type": "code",
   "execution_count": 14,
   "metadata": {},
   "outputs": [
    {
     "data": {
      "application/vnd.plotly.v1+json": {
       "config": {
        "plotlyServerURL": "https://plot.ly"
       },
       "data": [
        {
         "a": [
          24.086937037866903,
          24.1368042696874,
          27.773164076402896,
          20.48253078386225,
          35.017363055897846,
          33.087684236822376
         ],
         "b": [
          70.88281425050414,
          69.32795991722034,
          64.61027405386166,
          76.77445189708679,
          58.02621261341996,
          60.12990257307019
         ],
         "c": [
          5.030248711628949,
          6.535235813092255,
          7.616561869735436,
          2.7430173190509564,
          6.956424330682201,
          6.782413190107419
         ],
         "hovertemplate": "Material=Oven Slag<br>SiO2=%{a}<br>Fe2O3=%{b}<br>Al2O3=%{c}<br>size=%{marker.size}<extra></extra>",
         "legendgroup": "Oven Slag",
         "marker": {
          "color": "#636efa",
          "size": [
           1,
           1,
           1,
           1,
           1,
           1
          ],
          "sizemode": "area",
          "sizeref": 0.023668639053254437,
          "symbol": "circle"
         },
         "mode": "markers",
         "name": "Oven Slag",
         "showlegend": true,
         "subplot": "ternary",
         "type": "scatterternary"
        },
        {
         "a": [
          24.028838911008286,
          17.11388125924361,
          20.7831652022996,
          7.977928497528453
         ],
         "b": [
          70.05272785967934,
          81.34375660257764,
          74.96474671873305,
          91.12541671456489
         ],
         "c": [
          5.918433229312386,
          1.5423621381787451,
          4.25208807896735,
          0.8966547879066561
         ],
         "hovertemplate": "Material=Smithing Slag<br>SiO2=%{a}<br>Fe2O3=%{b}<br>Al2O3=%{c}<br>size=%{marker.size}<extra></extra>",
         "legendgroup": "Smithing Slag",
         "marker": {
          "color": "#EF553B",
          "size": [
           1,
           1,
           1,
           1
          ],
          "sizemode": "area",
          "sizeref": 0.023668639053254437,
          "symbol": "diamond"
         },
         "mode": "markers",
         "name": "Smithing Slag",
         "showlegend": true,
         "subplot": "ternary",
         "type": "scatterternary"
        },
        {
         "a": [
          24.356072852678093,
          18.514781555847037,
          15.210915729797254,
          26.010479041916167,
          12.676056338028168,
          37.73818919833127,
          35.99078341013825,
          28.54387656702025,
          35.2056053296577,
          29.861995753715505,
          29.61509104786828,
          31.74586450321357
         ],
         "b": [
          69.30703739627116,
          78.48854807789326,
          83.11713269914482,
          69.28642714570859,
          84.03755868544602,
          53.2867290562634,
          54.112903225806456,
          63.51253616200577,
          54.628991500114864,
          61.35881104033971,
          61.683567767964234,
          62.49078073964809
         ],
         "c": [
          6.3368897510507605,
          2.9966703662597114,
          1.6719515710579418,
          4.70309381237525,
          3.286384976525822,
          8.975081745405346,
          9.896313364055299,
          7.943587270973962,
          10.165403170227428,
          8.779193205944798,
          8.701341184167484,
          5.763354757138341
         ],
         "hovertemplate": "Material=Plate Slag<br>SiO2=%{a}<br>Fe2O3=%{b}<br>Al2O3=%{c}<br>size=%{marker.size}<extra></extra>",
         "legendgroup": "Plate Slag",
         "marker": {
          "color": "#00cc96",
          "size": [
           1,
           1,
           1,
           1,
           1,
           1,
           1,
           1,
           1,
           1,
           1,
           1
          ],
          "sizemode": "area",
          "sizeref": 0.023668639053254437,
          "symbol": "square"
         },
         "mode": "markers",
         "name": "Plate Slag",
         "showlegend": true,
         "subplot": "ternary",
         "type": "scatterternary"
        },
        {
         "a": [
          31.93077339102217,
          34.45601595391092,
          40.254330190747645,
          22.302624473485256,
          26.15748200666022,
          35.13150531617236,
          25.440271589221304,
          22.17171717171717,
          16.305237315875615,
          33.16747710053149,
          26.177448771591035,
          31.260282987824944,
          32.71569195136074
         ],
         "b": [
          61.871281773931855,
          58.49767338799025,
          52.31308923481692,
          71.0119883356734,
          70.19013857557202,
          55.612758813654175,
          70.70867812433694,
          73.93939393939394,
          79.53150572831424,
          57.75189415356778,
          66.09805814826736,
          62.04891960074587,
          57.30167921250724
         ],
         "c": [
          6.197944835045971,
          7.046310658098825,
          7.4325805744354305,
          6.685387190841344,
          3.6523794177677518,
          9.255735870173474,
          3.851050286441757,
          3.888888888888889,
          4.163256955810148,
          9.080628745900711,
          7.724493080141616,
          6.690797411429199,
          9.98262883613202
         ],
         "hovertemplate": "Material=Flow Slag<br>SiO2=%{a}<br>Fe2O3=%{b}<br>Al2O3=%{c}<br>size=%{marker.size}<extra></extra>",
         "legendgroup": "Flow Slag",
         "marker": {
          "color": "#ab63fa",
          "size": [
           1,
           1,
           1,
           1,
           1,
           1,
           1,
           1,
           1,
           1,
           1,
           1,
           1
          ],
          "sizemode": "area",
          "sizeref": 0.023668639053254437,
          "symbol": "x"
         },
         "mode": "markers",
         "name": "Flow Slag",
         "showlegend": true,
         "subplot": "ternary",
         "type": "scatterternary"
        },
        {
         "a": [
          10.140574312147061,
          19.302071973827697,
          11.928874234573716
         ],
         "b": [
          86.50726901357683,
          77.07742639040349,
          83.34903438530381
         ],
         "c": [
          3.3521566742761024,
          3.620501635768811,
          4.722091380122468
         ],
         "hovertemplate": "Material=Ore<br>SiO2=%{a}<br>Fe2O3=%{b}<br>Al2O3=%{c}<br>size=%{marker.size}<extra></extra>",
         "legendgroup": "Ore",
         "marker": {
          "color": "#FFA15A",
          "size": [
           1,
           1,
           1
          ],
          "sizemode": "area",
          "sizeref": 0.023668639053254437,
          "symbol": "cross"
         },
         "mode": "markers",
         "name": "Ore",
         "showlegend": true,
         "subplot": "ternary",
         "type": "scatterternary"
        }
       ],
       "layout": {
        "legend": {
         "itemsizing": "constant",
         "title": {
          "text": "Material"
         },
         "tracegroupgap": 0
        },
        "margin": {
         "t": 60
        },
        "template": {
         "data": {
          "bar": [
           {
            "error_x": {
             "color": "#2a3f5f"
            },
            "error_y": {
             "color": "#2a3f5f"
            },
            "marker": {
             "line": {
              "color": "#E5ECF6",
              "width": 0.5
             }
            },
            "type": "bar"
           }
          ],
          "barpolar": [
           {
            "marker": {
             "line": {
              "color": "#E5ECF6",
              "width": 0.5
             }
            },
            "type": "barpolar"
           }
          ],
          "carpet": [
           {
            "aaxis": {
             "endlinecolor": "#2a3f5f",
             "gridcolor": "white",
             "linecolor": "white",
             "minorgridcolor": "white",
             "startlinecolor": "#2a3f5f"
            },
            "baxis": {
             "endlinecolor": "#2a3f5f",
             "gridcolor": "white",
             "linecolor": "white",
             "minorgridcolor": "white",
             "startlinecolor": "#2a3f5f"
            },
            "type": "carpet"
           }
          ],
          "choropleth": [
           {
            "colorbar": {
             "outlinewidth": 0,
             "ticks": ""
            },
            "type": "choropleth"
           }
          ],
          "contour": [
           {
            "colorbar": {
             "outlinewidth": 0,
             "ticks": ""
            },
            "colorscale": [
             [
              0,
              "#0d0887"
             ],
             [
              0.1111111111111111,
              "#46039f"
             ],
             [
              0.2222222222222222,
              "#7201a8"
             ],
             [
              0.3333333333333333,
              "#9c179e"
             ],
             [
              0.4444444444444444,
              "#bd3786"
             ],
             [
              0.5555555555555556,
              "#d8576b"
             ],
             [
              0.6666666666666666,
              "#ed7953"
             ],
             [
              0.7777777777777778,
              "#fb9f3a"
             ],
             [
              0.8888888888888888,
              "#fdca26"
             ],
             [
              1,
              "#f0f921"
             ]
            ],
            "type": "contour"
           }
          ],
          "contourcarpet": [
           {
            "colorbar": {
             "outlinewidth": 0,
             "ticks": ""
            },
            "type": "contourcarpet"
           }
          ],
          "heatmap": [
           {
            "colorbar": {
             "outlinewidth": 0,
             "ticks": ""
            },
            "colorscale": [
             [
              0,
              "#0d0887"
             ],
             [
              0.1111111111111111,
              "#46039f"
             ],
             [
              0.2222222222222222,
              "#7201a8"
             ],
             [
              0.3333333333333333,
              "#9c179e"
             ],
             [
              0.4444444444444444,
              "#bd3786"
             ],
             [
              0.5555555555555556,
              "#d8576b"
             ],
             [
              0.6666666666666666,
              "#ed7953"
             ],
             [
              0.7777777777777778,
              "#fb9f3a"
             ],
             [
              0.8888888888888888,
              "#fdca26"
             ],
             [
              1,
              "#f0f921"
             ]
            ],
            "type": "heatmap"
           }
          ],
          "heatmapgl": [
           {
            "colorbar": {
             "outlinewidth": 0,
             "ticks": ""
            },
            "colorscale": [
             [
              0,
              "#0d0887"
             ],
             [
              0.1111111111111111,
              "#46039f"
             ],
             [
              0.2222222222222222,
              "#7201a8"
             ],
             [
              0.3333333333333333,
              "#9c179e"
             ],
             [
              0.4444444444444444,
              "#bd3786"
             ],
             [
              0.5555555555555556,
              "#d8576b"
             ],
             [
              0.6666666666666666,
              "#ed7953"
             ],
             [
              0.7777777777777778,
              "#fb9f3a"
             ],
             [
              0.8888888888888888,
              "#fdca26"
             ],
             [
              1,
              "#f0f921"
             ]
            ],
            "type": "heatmapgl"
           }
          ],
          "histogram": [
           {
            "marker": {
             "colorbar": {
              "outlinewidth": 0,
              "ticks": ""
             }
            },
            "type": "histogram"
           }
          ],
          "histogram2d": [
           {
            "colorbar": {
             "outlinewidth": 0,
             "ticks": ""
            },
            "colorscale": [
             [
              0,
              "#0d0887"
             ],
             [
              0.1111111111111111,
              "#46039f"
             ],
             [
              0.2222222222222222,
              "#7201a8"
             ],
             [
              0.3333333333333333,
              "#9c179e"
             ],
             [
              0.4444444444444444,
              "#bd3786"
             ],
             [
              0.5555555555555556,
              "#d8576b"
             ],
             [
              0.6666666666666666,
              "#ed7953"
             ],
             [
              0.7777777777777778,
              "#fb9f3a"
             ],
             [
              0.8888888888888888,
              "#fdca26"
             ],
             [
              1,
              "#f0f921"
             ]
            ],
            "type": "histogram2d"
           }
          ],
          "histogram2dcontour": [
           {
            "colorbar": {
             "outlinewidth": 0,
             "ticks": ""
            },
            "colorscale": [
             [
              0,
              "#0d0887"
             ],
             [
              0.1111111111111111,
              "#46039f"
             ],
             [
              0.2222222222222222,
              "#7201a8"
             ],
             [
              0.3333333333333333,
              "#9c179e"
             ],
             [
              0.4444444444444444,
              "#bd3786"
             ],
             [
              0.5555555555555556,
              "#d8576b"
             ],
             [
              0.6666666666666666,
              "#ed7953"
             ],
             [
              0.7777777777777778,
              "#fb9f3a"
             ],
             [
              0.8888888888888888,
              "#fdca26"
             ],
             [
              1,
              "#f0f921"
             ]
            ],
            "type": "histogram2dcontour"
           }
          ],
          "mesh3d": [
           {
            "colorbar": {
             "outlinewidth": 0,
             "ticks": ""
            },
            "type": "mesh3d"
           }
          ],
          "parcoords": [
           {
            "line": {
             "colorbar": {
              "outlinewidth": 0,
              "ticks": ""
             }
            },
            "type": "parcoords"
           }
          ],
          "pie": [
           {
            "automargin": true,
            "type": "pie"
           }
          ],
          "scatter": [
           {
            "marker": {
             "colorbar": {
              "outlinewidth": 0,
              "ticks": ""
             }
            },
            "type": "scatter"
           }
          ],
          "scatter3d": [
           {
            "line": {
             "colorbar": {
              "outlinewidth": 0,
              "ticks": ""
             }
            },
            "marker": {
             "colorbar": {
              "outlinewidth": 0,
              "ticks": ""
             }
            },
            "type": "scatter3d"
           }
          ],
          "scattercarpet": [
           {
            "marker": {
             "colorbar": {
              "outlinewidth": 0,
              "ticks": ""
             }
            },
            "type": "scattercarpet"
           }
          ],
          "scattergeo": [
           {
            "marker": {
             "colorbar": {
              "outlinewidth": 0,
              "ticks": ""
             }
            },
            "type": "scattergeo"
           }
          ],
          "scattergl": [
           {
            "marker": {
             "colorbar": {
              "outlinewidth": 0,
              "ticks": ""
             }
            },
            "type": "scattergl"
           }
          ],
          "scattermapbox": [
           {
            "marker": {
             "colorbar": {
              "outlinewidth": 0,
              "ticks": ""
             }
            },
            "type": "scattermapbox"
           }
          ],
          "scatterpolar": [
           {
            "marker": {
             "colorbar": {
              "outlinewidth": 0,
              "ticks": ""
             }
            },
            "type": "scatterpolar"
           }
          ],
          "scatterpolargl": [
           {
            "marker": {
             "colorbar": {
              "outlinewidth": 0,
              "ticks": ""
             }
            },
            "type": "scatterpolargl"
           }
          ],
          "scatterternary": [
           {
            "marker": {
             "colorbar": {
              "outlinewidth": 0,
              "ticks": ""
             }
            },
            "type": "scatterternary"
           }
          ],
          "surface": [
           {
            "colorbar": {
             "outlinewidth": 0,
             "ticks": ""
            },
            "colorscale": [
             [
              0,
              "#0d0887"
             ],
             [
              0.1111111111111111,
              "#46039f"
             ],
             [
              0.2222222222222222,
              "#7201a8"
             ],
             [
              0.3333333333333333,
              "#9c179e"
             ],
             [
              0.4444444444444444,
              "#bd3786"
             ],
             [
              0.5555555555555556,
              "#d8576b"
             ],
             [
              0.6666666666666666,
              "#ed7953"
             ],
             [
              0.7777777777777778,
              "#fb9f3a"
             ],
             [
              0.8888888888888888,
              "#fdca26"
             ],
             [
              1,
              "#f0f921"
             ]
            ],
            "type": "surface"
           }
          ],
          "table": [
           {
            "cells": {
             "fill": {
              "color": "#EBF0F8"
             },
             "line": {
              "color": "white"
             }
            },
            "header": {
             "fill": {
              "color": "#C8D4E3"
             },
             "line": {
              "color": "white"
             }
            },
            "type": "table"
           }
          ]
         },
         "layout": {
          "annotationdefaults": {
           "arrowcolor": "#2a3f5f",
           "arrowhead": 0,
           "arrowwidth": 1
          },
          "autotypenumbers": "strict",
          "coloraxis": {
           "colorbar": {
            "outlinewidth": 0,
            "ticks": ""
           }
          },
          "colorscale": {
           "diverging": [
            [
             0,
             "#8e0152"
            ],
            [
             0.1,
             "#c51b7d"
            ],
            [
             0.2,
             "#de77ae"
            ],
            [
             0.3,
             "#f1b6da"
            ],
            [
             0.4,
             "#fde0ef"
            ],
            [
             0.5,
             "#f7f7f7"
            ],
            [
             0.6,
             "#e6f5d0"
            ],
            [
             0.7,
             "#b8e186"
            ],
            [
             0.8,
             "#7fbc41"
            ],
            [
             0.9,
             "#4d9221"
            ],
            [
             1,
             "#276419"
            ]
           ],
           "sequential": [
            [
             0,
             "#0d0887"
            ],
            [
             0.1111111111111111,
             "#46039f"
            ],
            [
             0.2222222222222222,
             "#7201a8"
            ],
            [
             0.3333333333333333,
             "#9c179e"
            ],
            [
             0.4444444444444444,
             "#bd3786"
            ],
            [
             0.5555555555555556,
             "#d8576b"
            ],
            [
             0.6666666666666666,
             "#ed7953"
            ],
            [
             0.7777777777777778,
             "#fb9f3a"
            ],
            [
             0.8888888888888888,
             "#fdca26"
            ],
            [
             1,
             "#f0f921"
            ]
           ],
           "sequentialminus": [
            [
             0,
             "#0d0887"
            ],
            [
             0.1111111111111111,
             "#46039f"
            ],
            [
             0.2222222222222222,
             "#7201a8"
            ],
            [
             0.3333333333333333,
             "#9c179e"
            ],
            [
             0.4444444444444444,
             "#bd3786"
            ],
            [
             0.5555555555555556,
             "#d8576b"
            ],
            [
             0.6666666666666666,
             "#ed7953"
            ],
            [
             0.7777777777777778,
             "#fb9f3a"
            ],
            [
             0.8888888888888888,
             "#fdca26"
            ],
            [
             1,
             "#f0f921"
            ]
           ]
          },
          "colorway": [
           "#636efa",
           "#EF553B",
           "#00cc96",
           "#ab63fa",
           "#FFA15A",
           "#19d3f3",
           "#FF6692",
           "#B6E880",
           "#FF97FF",
           "#FECB52"
          ],
          "font": {
           "color": "#2a3f5f"
          },
          "geo": {
           "bgcolor": "white",
           "lakecolor": "white",
           "landcolor": "#E5ECF6",
           "showlakes": true,
           "showland": true,
           "subunitcolor": "white"
          },
          "hoverlabel": {
           "align": "left"
          },
          "hovermode": "closest",
          "mapbox": {
           "style": "light"
          },
          "paper_bgcolor": "white",
          "plot_bgcolor": "#E5ECF6",
          "polar": {
           "angularaxis": {
            "gridcolor": "white",
            "linecolor": "white",
            "ticks": ""
           },
           "bgcolor": "#E5ECF6",
           "radialaxis": {
            "gridcolor": "white",
            "linecolor": "white",
            "ticks": ""
           }
          },
          "scene": {
           "xaxis": {
            "backgroundcolor": "#E5ECF6",
            "gridcolor": "white",
            "gridwidth": 2,
            "linecolor": "white",
            "showbackground": true,
            "ticks": "",
            "zerolinecolor": "white"
           },
           "yaxis": {
            "backgroundcolor": "#E5ECF6",
            "gridcolor": "white",
            "gridwidth": 2,
            "linecolor": "white",
            "showbackground": true,
            "ticks": "",
            "zerolinecolor": "white"
           },
           "zaxis": {
            "backgroundcolor": "#E5ECF6",
            "gridcolor": "white",
            "gridwidth": 2,
            "linecolor": "white",
            "showbackground": true,
            "ticks": "",
            "zerolinecolor": "white"
           }
          },
          "shapedefaults": {
           "line": {
            "color": "#2a3f5f"
           }
          },
          "ternary": {
           "aaxis": {
            "gridcolor": "white",
            "linecolor": "white",
            "ticks": ""
           },
           "baxis": {
            "gridcolor": "white",
            "linecolor": "white",
            "ticks": ""
           },
           "bgcolor": "#E5ECF6",
           "caxis": {
            "gridcolor": "white",
            "linecolor": "white",
            "ticks": ""
           }
          },
          "title": {
           "x": 0.05
          },
          "xaxis": {
           "automargin": true,
           "gridcolor": "white",
           "linecolor": "white",
           "ticks": "",
           "title": {
            "standoff": 15
           },
           "zerolinecolor": "white",
           "zerolinewidth": 2
          },
          "yaxis": {
           "automargin": true,
           "gridcolor": "white",
           "linecolor": "white",
           "ticks": "",
           "title": {
            "standoff": 15
           },
           "zerolinecolor": "white",
           "zerolinewidth": 2
          }
         }
        },
        "ternary": {
         "aaxis": {
          "title": {
           "text": "SiO2"
          }
         },
         "baxis": {
          "title": {
           "text": "Fe2O3"
          }
         },
         "caxis": {
          "title": {
           "text": "Al2O3"
          }
         },
         "domain": {
          "x": [
           0,
           1
          ],
          "y": [
           0,
           1
          ]
         }
        }
       }
      },
      "text/html": [
       "<div>                            <div id=\"ecf9f458-9f28-40b7-a7f5-c0277e2dda9d\" class=\"plotly-graph-div\" style=\"height:525px; width:100%;\"></div>            <script type=\"text/javascript\">                require([\"plotly\"], function(Plotly) {                    window.PLOTLYENV=window.PLOTLYENV || {};                                    if (document.getElementById(\"ecf9f458-9f28-40b7-a7f5-c0277e2dda9d\")) {                    Plotly.newPlot(                        \"ecf9f458-9f28-40b7-a7f5-c0277e2dda9d\",                        [{\"a\": [24.086937037866903, 24.1368042696874, 27.773164076402896, 20.48253078386225, 35.017363055897846, 33.087684236822376], \"b\": [70.88281425050414, 69.32795991722034, 64.61027405386166, 76.77445189708679, 58.02621261341996, 60.12990257307019], \"c\": [5.030248711628949, 6.535235813092255, 7.616561869735436, 2.7430173190509564, 6.956424330682201, 6.782413190107419], \"hovertemplate\": \"Material=Oven Slag<br>SiO2=%{a}<br>Fe2O3=%{b}<br>Al2O3=%{c}<br>size=%{marker.size}<extra></extra>\", \"legendgroup\": \"Oven Slag\", \"marker\": {\"color\": \"#636efa\", \"size\": [1, 1, 1, 1, 1, 1], \"sizemode\": \"area\", \"sizeref\": 0.023668639053254437, \"symbol\": \"circle\"}, \"mode\": \"markers\", \"name\": \"Oven Slag\", \"showlegend\": true, \"subplot\": \"ternary\", \"type\": \"scatterternary\"}, {\"a\": [24.028838911008286, 17.11388125924361, 20.7831652022996, 7.977928497528453], \"b\": [70.05272785967934, 81.34375660257764, 74.96474671873305, 91.12541671456489], \"c\": [5.918433229312386, 1.5423621381787451, 4.25208807896735, 0.8966547879066561], \"hovertemplate\": \"Material=Smithing Slag<br>SiO2=%{a}<br>Fe2O3=%{b}<br>Al2O3=%{c}<br>size=%{marker.size}<extra></extra>\", \"legendgroup\": \"Smithing Slag\", \"marker\": {\"color\": \"#EF553B\", \"size\": [1, 1, 1, 1], \"sizemode\": \"area\", \"sizeref\": 0.023668639053254437, \"symbol\": \"diamond\"}, \"mode\": \"markers\", \"name\": \"Smithing Slag\", \"showlegend\": true, \"subplot\": \"ternary\", \"type\": \"scatterternary\"}, {\"a\": [24.356072852678093, 18.514781555847037, 15.210915729797254, 26.010479041916167, 12.676056338028168, 37.73818919833127, 35.99078341013825, 28.54387656702025, 35.2056053296577, 29.861995753715505, 29.61509104786828, 31.74586450321357], \"b\": [69.30703739627116, 78.48854807789326, 83.11713269914482, 69.28642714570859, 84.03755868544602, 53.2867290562634, 54.112903225806456, 63.51253616200577, 54.628991500114864, 61.35881104033971, 61.683567767964234, 62.49078073964809], \"c\": [6.3368897510507605, 2.9966703662597114, 1.6719515710579418, 4.70309381237525, 3.286384976525822, 8.975081745405346, 9.896313364055299, 7.943587270973962, 10.165403170227428, 8.779193205944798, 8.701341184167484, 5.763354757138341], \"hovertemplate\": \"Material=Plate Slag<br>SiO2=%{a}<br>Fe2O3=%{b}<br>Al2O3=%{c}<br>size=%{marker.size}<extra></extra>\", \"legendgroup\": \"Plate Slag\", \"marker\": {\"color\": \"#00cc96\", \"size\": [1, 1, 1, 1, 1, 1, 1, 1, 1, 1, 1, 1], \"sizemode\": \"area\", \"sizeref\": 0.023668639053254437, \"symbol\": \"square\"}, \"mode\": \"markers\", \"name\": \"Plate Slag\", \"showlegend\": true, \"subplot\": \"ternary\", \"type\": \"scatterternary\"}, {\"a\": [31.93077339102217, 34.45601595391092, 40.254330190747645, 22.302624473485256, 26.15748200666022, 35.13150531617236, 25.440271589221304, 22.17171717171717, 16.305237315875615, 33.16747710053149, 26.177448771591035, 31.260282987824944, 32.71569195136074], \"b\": [61.871281773931855, 58.49767338799025, 52.31308923481692, 71.0119883356734, 70.19013857557202, 55.612758813654175, 70.70867812433694, 73.93939393939394, 79.53150572831424, 57.75189415356778, 66.09805814826736, 62.04891960074587, 57.30167921250724], \"c\": [6.197944835045971, 7.046310658098825, 7.4325805744354305, 6.685387190841344, 3.6523794177677518, 9.255735870173474, 3.851050286441757, 3.888888888888889, 4.163256955810148, 9.080628745900711, 7.724493080141616, 6.690797411429199, 9.98262883613202], \"hovertemplate\": \"Material=Flow Slag<br>SiO2=%{a}<br>Fe2O3=%{b}<br>Al2O3=%{c}<br>size=%{marker.size}<extra></extra>\", \"legendgroup\": \"Flow Slag\", \"marker\": {\"color\": \"#ab63fa\", \"size\": [1, 1, 1, 1, 1, 1, 1, 1, 1, 1, 1, 1, 1], \"sizemode\": \"area\", \"sizeref\": 0.023668639053254437, \"symbol\": \"x\"}, \"mode\": \"markers\", \"name\": \"Flow Slag\", \"showlegend\": true, \"subplot\": \"ternary\", \"type\": \"scatterternary\"}, {\"a\": [10.140574312147061, 19.302071973827697, 11.928874234573716], \"b\": [86.50726901357683, 77.07742639040349, 83.34903438530381], \"c\": [3.3521566742761024, 3.620501635768811, 4.722091380122468], \"hovertemplate\": \"Material=Ore<br>SiO2=%{a}<br>Fe2O3=%{b}<br>Al2O3=%{c}<br>size=%{marker.size}<extra></extra>\", \"legendgroup\": \"Ore\", \"marker\": {\"color\": \"#FFA15A\", \"size\": [1, 1, 1], \"sizemode\": \"area\", \"sizeref\": 0.023668639053254437, \"symbol\": \"cross\"}, \"mode\": \"markers\", \"name\": \"Ore\", \"showlegend\": true, \"subplot\": \"ternary\", \"type\": \"scatterternary\"}],                        {\"legend\": {\"itemsizing\": \"constant\", \"title\": {\"text\": \"Material\"}, \"tracegroupgap\": 0}, \"margin\": {\"t\": 60}, \"template\": {\"data\": {\"bar\": [{\"error_x\": {\"color\": \"#2a3f5f\"}, \"error_y\": {\"color\": \"#2a3f5f\"}, \"marker\": {\"line\": {\"color\": \"#E5ECF6\", \"width\": 0.5}}, \"type\": \"bar\"}], \"barpolar\": [{\"marker\": {\"line\": {\"color\": \"#E5ECF6\", \"width\": 0.5}}, \"type\": \"barpolar\"}], \"carpet\": [{\"aaxis\": {\"endlinecolor\": \"#2a3f5f\", \"gridcolor\": \"white\", \"linecolor\": \"white\", \"minorgridcolor\": \"white\", \"startlinecolor\": \"#2a3f5f\"}, \"baxis\": {\"endlinecolor\": \"#2a3f5f\", \"gridcolor\": \"white\", \"linecolor\": \"white\", \"minorgridcolor\": \"white\", \"startlinecolor\": \"#2a3f5f\"}, \"type\": \"carpet\"}], \"choropleth\": [{\"colorbar\": {\"outlinewidth\": 0, \"ticks\": \"\"}, \"type\": \"choropleth\"}], \"contour\": [{\"colorbar\": {\"outlinewidth\": 0, \"ticks\": \"\"}, \"colorscale\": [[0.0, \"#0d0887\"], [0.1111111111111111, \"#46039f\"], [0.2222222222222222, \"#7201a8\"], [0.3333333333333333, \"#9c179e\"], [0.4444444444444444, \"#bd3786\"], [0.5555555555555556, \"#d8576b\"], [0.6666666666666666, \"#ed7953\"], [0.7777777777777778, \"#fb9f3a\"], [0.8888888888888888, \"#fdca26\"], [1.0, \"#f0f921\"]], \"type\": \"contour\"}], \"contourcarpet\": [{\"colorbar\": {\"outlinewidth\": 0, \"ticks\": \"\"}, \"type\": \"contourcarpet\"}], \"heatmap\": [{\"colorbar\": {\"outlinewidth\": 0, \"ticks\": \"\"}, \"colorscale\": [[0.0, \"#0d0887\"], [0.1111111111111111, \"#46039f\"], [0.2222222222222222, \"#7201a8\"], [0.3333333333333333, \"#9c179e\"], [0.4444444444444444, \"#bd3786\"], [0.5555555555555556, \"#d8576b\"], [0.6666666666666666, \"#ed7953\"], [0.7777777777777778, \"#fb9f3a\"], [0.8888888888888888, \"#fdca26\"], [1.0, \"#f0f921\"]], \"type\": \"heatmap\"}], \"heatmapgl\": [{\"colorbar\": {\"outlinewidth\": 0, \"ticks\": \"\"}, \"colorscale\": [[0.0, \"#0d0887\"], [0.1111111111111111, \"#46039f\"], [0.2222222222222222, \"#7201a8\"], [0.3333333333333333, \"#9c179e\"], [0.4444444444444444, \"#bd3786\"], [0.5555555555555556, \"#d8576b\"], [0.6666666666666666, \"#ed7953\"], [0.7777777777777778, \"#fb9f3a\"], [0.8888888888888888, \"#fdca26\"], [1.0, \"#f0f921\"]], \"type\": \"heatmapgl\"}], \"histogram\": [{\"marker\": {\"colorbar\": {\"outlinewidth\": 0, \"ticks\": \"\"}}, \"type\": \"histogram\"}], \"histogram2d\": [{\"colorbar\": {\"outlinewidth\": 0, \"ticks\": \"\"}, \"colorscale\": [[0.0, \"#0d0887\"], [0.1111111111111111, \"#46039f\"], [0.2222222222222222, \"#7201a8\"], [0.3333333333333333, \"#9c179e\"], [0.4444444444444444, \"#bd3786\"], [0.5555555555555556, \"#d8576b\"], [0.6666666666666666, \"#ed7953\"], [0.7777777777777778, \"#fb9f3a\"], [0.8888888888888888, \"#fdca26\"], [1.0, \"#f0f921\"]], \"type\": \"histogram2d\"}], \"histogram2dcontour\": [{\"colorbar\": {\"outlinewidth\": 0, \"ticks\": \"\"}, \"colorscale\": [[0.0, \"#0d0887\"], [0.1111111111111111, \"#46039f\"], [0.2222222222222222, \"#7201a8\"], [0.3333333333333333, \"#9c179e\"], [0.4444444444444444, \"#bd3786\"], [0.5555555555555556, \"#d8576b\"], [0.6666666666666666, \"#ed7953\"], [0.7777777777777778, \"#fb9f3a\"], [0.8888888888888888, \"#fdca26\"], [1.0, \"#f0f921\"]], \"type\": \"histogram2dcontour\"}], \"mesh3d\": [{\"colorbar\": {\"outlinewidth\": 0, \"ticks\": \"\"}, \"type\": \"mesh3d\"}], \"parcoords\": [{\"line\": {\"colorbar\": {\"outlinewidth\": 0, \"ticks\": \"\"}}, \"type\": \"parcoords\"}], \"pie\": [{\"automargin\": true, \"type\": \"pie\"}], \"scatter\": [{\"marker\": {\"colorbar\": {\"outlinewidth\": 0, \"ticks\": \"\"}}, \"type\": \"scatter\"}], \"scatter3d\": [{\"line\": {\"colorbar\": {\"outlinewidth\": 0, \"ticks\": \"\"}}, \"marker\": {\"colorbar\": {\"outlinewidth\": 0, \"ticks\": \"\"}}, \"type\": \"scatter3d\"}], \"scattercarpet\": [{\"marker\": {\"colorbar\": {\"outlinewidth\": 0, \"ticks\": \"\"}}, \"type\": \"scattercarpet\"}], \"scattergeo\": [{\"marker\": {\"colorbar\": {\"outlinewidth\": 0, \"ticks\": \"\"}}, \"type\": \"scattergeo\"}], \"scattergl\": [{\"marker\": {\"colorbar\": {\"outlinewidth\": 0, \"ticks\": \"\"}}, \"type\": \"scattergl\"}], \"scattermapbox\": [{\"marker\": {\"colorbar\": {\"outlinewidth\": 0, \"ticks\": \"\"}}, \"type\": \"scattermapbox\"}], \"scatterpolar\": [{\"marker\": {\"colorbar\": {\"outlinewidth\": 0, \"ticks\": \"\"}}, \"type\": \"scatterpolar\"}], \"scatterpolargl\": [{\"marker\": {\"colorbar\": {\"outlinewidth\": 0, \"ticks\": \"\"}}, \"type\": \"scatterpolargl\"}], \"scatterternary\": [{\"marker\": {\"colorbar\": {\"outlinewidth\": 0, \"ticks\": \"\"}}, \"type\": \"scatterternary\"}], \"surface\": [{\"colorbar\": {\"outlinewidth\": 0, \"ticks\": \"\"}, \"colorscale\": [[0.0, \"#0d0887\"], [0.1111111111111111, \"#46039f\"], [0.2222222222222222, \"#7201a8\"], [0.3333333333333333, \"#9c179e\"], [0.4444444444444444, \"#bd3786\"], [0.5555555555555556, \"#d8576b\"], [0.6666666666666666, \"#ed7953\"], [0.7777777777777778, \"#fb9f3a\"], [0.8888888888888888, \"#fdca26\"], [1.0, \"#f0f921\"]], \"type\": \"surface\"}], \"table\": [{\"cells\": {\"fill\": {\"color\": \"#EBF0F8\"}, \"line\": {\"color\": \"white\"}}, \"header\": {\"fill\": {\"color\": \"#C8D4E3\"}, \"line\": {\"color\": \"white\"}}, \"type\": \"table\"}]}, \"layout\": {\"annotationdefaults\": {\"arrowcolor\": \"#2a3f5f\", \"arrowhead\": 0, \"arrowwidth\": 1}, \"autotypenumbers\": \"strict\", \"coloraxis\": {\"colorbar\": {\"outlinewidth\": 0, \"ticks\": \"\"}}, \"colorscale\": {\"diverging\": [[0, \"#8e0152\"], [0.1, \"#c51b7d\"], [0.2, \"#de77ae\"], [0.3, \"#f1b6da\"], [0.4, \"#fde0ef\"], [0.5, \"#f7f7f7\"], [0.6, \"#e6f5d0\"], [0.7, \"#b8e186\"], [0.8, \"#7fbc41\"], [0.9, \"#4d9221\"], [1, \"#276419\"]], \"sequential\": [[0.0, \"#0d0887\"], [0.1111111111111111, \"#46039f\"], [0.2222222222222222, \"#7201a8\"], [0.3333333333333333, \"#9c179e\"], [0.4444444444444444, \"#bd3786\"], [0.5555555555555556, \"#d8576b\"], [0.6666666666666666, \"#ed7953\"], [0.7777777777777778, \"#fb9f3a\"], [0.8888888888888888, \"#fdca26\"], [1.0, \"#f0f921\"]], \"sequentialminus\": [[0.0, \"#0d0887\"], [0.1111111111111111, \"#46039f\"], [0.2222222222222222, \"#7201a8\"], [0.3333333333333333, \"#9c179e\"], [0.4444444444444444, \"#bd3786\"], [0.5555555555555556, \"#d8576b\"], [0.6666666666666666, \"#ed7953\"], [0.7777777777777778, \"#fb9f3a\"], [0.8888888888888888, \"#fdca26\"], [1.0, \"#f0f921\"]]}, \"colorway\": [\"#636efa\", \"#EF553B\", \"#00cc96\", \"#ab63fa\", \"#FFA15A\", \"#19d3f3\", \"#FF6692\", \"#B6E880\", \"#FF97FF\", \"#FECB52\"], \"font\": {\"color\": \"#2a3f5f\"}, \"geo\": {\"bgcolor\": \"white\", \"lakecolor\": \"white\", \"landcolor\": \"#E5ECF6\", \"showlakes\": true, \"showland\": true, \"subunitcolor\": \"white\"}, \"hoverlabel\": {\"align\": \"left\"}, \"hovermode\": \"closest\", \"mapbox\": {\"style\": \"light\"}, \"paper_bgcolor\": \"white\", \"plot_bgcolor\": \"#E5ECF6\", \"polar\": {\"angularaxis\": {\"gridcolor\": \"white\", \"linecolor\": \"white\", \"ticks\": \"\"}, \"bgcolor\": \"#E5ECF6\", \"radialaxis\": {\"gridcolor\": \"white\", \"linecolor\": \"white\", \"ticks\": \"\"}}, \"scene\": {\"xaxis\": {\"backgroundcolor\": \"#E5ECF6\", \"gridcolor\": \"white\", \"gridwidth\": 2, \"linecolor\": \"white\", \"showbackground\": true, \"ticks\": \"\", \"zerolinecolor\": \"white\"}, \"yaxis\": {\"backgroundcolor\": \"#E5ECF6\", \"gridcolor\": \"white\", \"gridwidth\": 2, \"linecolor\": \"white\", \"showbackground\": true, \"ticks\": \"\", \"zerolinecolor\": \"white\"}, \"zaxis\": {\"backgroundcolor\": \"#E5ECF6\", \"gridcolor\": \"white\", \"gridwidth\": 2, \"linecolor\": \"white\", \"showbackground\": true, \"ticks\": \"\", \"zerolinecolor\": \"white\"}}, \"shapedefaults\": {\"line\": {\"color\": \"#2a3f5f\"}}, \"ternary\": {\"aaxis\": {\"gridcolor\": \"white\", \"linecolor\": \"white\", \"ticks\": \"\"}, \"baxis\": {\"gridcolor\": \"white\", \"linecolor\": \"white\", \"ticks\": \"\"}, \"bgcolor\": \"#E5ECF6\", \"caxis\": {\"gridcolor\": \"white\", \"linecolor\": \"white\", \"ticks\": \"\"}}, \"title\": {\"x\": 0.05}, \"xaxis\": {\"automargin\": true, \"gridcolor\": \"white\", \"linecolor\": \"white\", \"ticks\": \"\", \"title\": {\"standoff\": 15}, \"zerolinecolor\": \"white\", \"zerolinewidth\": 2}, \"yaxis\": {\"automargin\": true, \"gridcolor\": \"white\", \"linecolor\": \"white\", \"ticks\": \"\", \"title\": {\"standoff\": 15}, \"zerolinecolor\": \"white\", \"zerolinewidth\": 2}}}, \"ternary\": {\"aaxis\": {\"title\": {\"text\": \"SiO2\"}}, \"baxis\": {\"title\": {\"text\": \"Fe2O3\"}}, \"caxis\": {\"title\": {\"text\": \"Al2O3\"}}, \"domain\": {\"x\": [0.0, 1.0], \"y\": [0.0, 1.0]}}},                        {\"responsive\": true}                    ).then(function(){\n",
       "                            \n",
       "var gd = document.getElementById('ecf9f458-9f28-40b7-a7f5-c0277e2dda9d');\n",
       "var x = new MutationObserver(function (mutations, observer) {{\n",
       "        var display = window.getComputedStyle(gd).display;\n",
       "        if (!display || display === 'none') {{\n",
       "            console.log([gd, 'removed!']);\n",
       "            Plotly.purge(gd);\n",
       "            observer.disconnect();\n",
       "        }}\n",
       "}});\n",
       "\n",
       "// Listen for the removal of the full notebook cells\n",
       "var notebookContainer = gd.closest('#notebook-container');\n",
       "if (notebookContainer) {{\n",
       "    x.observe(notebookContainer, {childList: true});\n",
       "}}\n",
       "\n",
       "// Listen for the clearing of the current output cell\n",
       "var outputEl = gd.closest('.output');\n",
       "if (outputEl) {{\n",
       "    x.observe(outputEl, {childList: true});\n",
       "}}\n",
       "\n",
       "                        })                };                });            </script>        </div>"
      ]
     },
     "metadata": {},
     "output_type": "display_data"
    }
   ],
   "source": [
    "es = [\"SiO2\", \"Fe2O3\",\"Al2O3\"] \n",
    "df_n100 = df.loc[:, es].div(df.loc[:, es].sum(axis = 1), axis = 0)*100 # normalization at 100%\n",
    "df_n100[\"Material\"] = df[\"Material\"].values\n",
    "\n",
    "colors = [\"dodgerblue\",\"red\",\"forestgreen\",\n",
    "          \"darkorange\",\"violet\",\"yellowgreen\",\n",
    "          \"mediumpurple\", \"darkblue\"]\n",
    "\n",
    "fig = px.scatter_ternary(df_n100, a=\"SiO2\", b=\"Fe2O3\", c=\"Al2O3\", color='Material',symbol =\"Material\",\n",
    "                         size = [1]*df_n100.shape[0], size_max = 6.5)\n",
    "fig.show()\n",
    "fig.write_image(\"kt_n100.png\", engine = \"kaleido\", scale = 5)"
   ]
  },
  {
   "cell_type": "code",
   "execution_count": null,
   "metadata": {},
   "outputs": [],
   "source": []
  },
  {
   "cell_type": "code",
   "execution_count": 4,
   "metadata": {},
   "outputs": [
    {
     "data": {
      "text/plain": [
       "[None, None]"
      ]
     },
     "execution_count": 4,
     "metadata": {},
     "output_type": "execute_result"
    },
    {
     "data": {
      "image/png": "[encoded data removed]",
      "text/plain": [
       "<Figure size 360x360 with 1 Axes>"
      ]
     },
     "metadata": {
      "needs_background": "light"
     },
     "output_type": "display_data"
    }
   ],
   "source": [
    "df[\"size\"] = \"s\"\n",
    "fig, ax = plt.subplots(1, figsize=(5,5))\n",
    "sns.scatterplot(data = df, x = \"CaO\", y = \"Ba\", hue = \"Material\", size = \"size\", sizes ={\"s\": 50}, ax = ax)\n",
    "ax.set(yscale=\"log\",xscale=\"log\" )\n"
   ]
  },
  {
   "cell_type": "code",
   "execution_count": 5,
   "metadata": {},
   "outputs": [
    {
     "data": {
      "text/plain": [
       "[None, None]"
      ]
     },
     "execution_count": 5,
     "metadata": {},
     "output_type": "execute_result"
    },
    {
     "data": {
      "image/png": "[encoded data removed]",
      "text/plain": [
       "<Figure size 360x360 with 1 Axes>"
      ]
     },
     "metadata": {
      "needs_background": "light"
     },
     "output_type": "display_data"
    }
   ],
   "source": [
    "fig, ax = plt.subplots(1, figsize=(5,5))\n",
    "\n",
    "plt.scatter(data = df, x = \"CaO\", y = \"Ba\",  marker=\"o\")\n",
    "#plt.scatter(data = df[\"Material\" == \"Smelting Slag\"], x = \"CaO\", y = \"Ba\",  marker=\"o\")\n",
    "ax.set(yscale=\"log\",xscale=\"log\" )"
   ]
  },
  {
   "cell_type": "code",
   "execution_count": 6,
   "metadata": {},
   "outputs": [
    {
     "name": "stdout",
     "output_type": "stream",
     "text": [
      "   Sample       Material   SiO2  TiO2  Al2O3  Fe2O3   MnO   MgO   CaO  Na2O  \\\n",
      "0   MST06      Oven Slag  21.50  0.23   4.49  63.27  2.47  0.80  2.46  0.45   \n",
      "1   MST07      Oven Slag  22.16  0.36   6.00  63.65  4.94  1.17  3.08  0.11   \n",
      "2   MST08      Oven Slag  23.41  0.36   6.42  54.46  4.62  1.28  3.21  0.11   \n",
      "3   MST09      Oven Slag  20.46  0.17   2.74  76.69  1.14  0.49  1.33  0.11   \n",
      "4   MST10      Oven Slag  31.26  0.34   6.21  51.80  3.41  1.14  2.18  0.64   \n",
      "5   MST11      Oven Slag  26.49  0.37   5.43  48.14  7.00  0.85  2.74  0.17   \n",
      "6   MST12  Smithing Slag  22.33  0.26   5.50  65.10  2.58  1.06  2.42  0.73   \n",
      "7   MST13  Smithing Slag  16.20  0.11   1.46  77.00  0.26  0.61  2.79  0.25   \n",
      "8   MST14  Smithing Slag  19.16  0.22   3.92  69.11  2.55  0.68  1.35  0.19   \n",
      "9   MST15  Smithing Slag   6.94  0.04   0.78  79.27  0.10  0.20  1.13  0.18   \n",
      "10  MST17     Plate Slag  22.60  0.35   5.88  64.31  4.37  1.01  2.21  0.14   \n",
      "11  MST18     Plate Slag  18.35  0.16   2.97  77.79  1.45  0.40  1.54  0.22   \n",
      "12  MST19     Plate Slag  15.83  0.10   1.74  86.50  0.45  0.27  0.84  0.17   \n",
      "13  MST20     Plate Slag  20.85  0.23   3.77  55.54  3.55  1.17  1.86  0.10   \n",
      "14  MST21     Plate Slag  12.42  0.16   3.22  82.34  1.59  0.70  3.14  0.51   \n",
      "15  MST22     Plate Slag  33.47  0.40   7.96  47.26  6.53  1.56  3.41  0.47   \n",
      "16  MST23     Plate Slag  31.24  0.42   8.59  46.97  6.93  1.64  3.59  0.72   \n",
      "17  MST24     Plate Slag  23.68  0.32   6.59  52.69  3.16  2.26  2.47  0.27   \n",
      "18  MST25     Plate Slag  30.65  0.38   8.85  47.56  7.61  1.43  2.39  0.41   \n",
      "19  MST26     Plate Slag  28.13  0.34   8.27  57.80  3.44  1.40  2.11  0.28   \n",
      "20  MST28     Plate Slag  27.16  0.32   7.98  56.57  5.54  1.31  2.91  0.22   \n",
      "21  MST29     Plate Slag  30.13  0.28   5.47  59.31  3.52  1.18  1.57  0.36   \n",
      "22  MST30      Flow Slag  29.52  0.33   5.73  57.20  4.53  1.89  3.02  0.28   \n",
      "23  MST31      Flow Slag  31.10  0.32   6.36  52.80  4.55  1.54  3.51  0.33   \n",
      "24  MST32      Flow Slag  36.72  0.37   6.78  47.72  4.41  1.86  3.52  0.22   \n",
      "25  MST33      Flow Slag  20.65  0.31   6.19  65.75  3.77  2.07  2.44  0.24   \n",
      "26  MST34      Flow Slag  24.35  0.20   3.40  65.34  1.28  0.69  2.44  0.27   \n",
      "27  MST35      Flow Slag  31.39  0.39   8.27  49.69  3.94  1.56  3.83  0.26   \n",
      "28  MST36      Flow Slag  23.98  0.24   3.63  66.65  0.73  1.16  5.10  0.59   \n",
      "29  MST38      Flow Slag  21.95  0.23   3.85  73.20  1.60  0.73  1.97  0.41   \n",
      "30  MST39      Flow Slag  15.94  0.21   4.07  77.75  2.80  0.74  2.01  0.25   \n",
      "31  MST40      Flow Slag  29.33  0.43   8.03  51.07  4.99  1.81  3.39  0.38   \n",
      "32  MST41      Flow Slag  24.40  0.40   7.20  61.61  3.53  1.40  2.49  0.30   \n",
      "33  MST42      Flow Slag  28.50  0.34   6.10  56.57  3.13  1.36  4.25  0.26   \n",
      "34  MST43      Flow Slag  28.25  0.34   8.62  49.48  9.15  1.46  2.00  0.33   \n",
      "35  MST05            Ore   8.44  0.14   2.79  72.00  5.74  0.45  1.29  0.06   \n",
      "36  MST02            Ore  17.70  0.24   3.32  70.68  3.85  0.41  0.52  0.09   \n",
      "37  MST03            Ore  10.13  0.19   4.01  70.78  2.07  0.58  0.89  0.10   \n",
      "\n",
      "    ...    Ba   Rb   Sr   V   Y   Zn   Zr  size  SiO2 + Al2O3  Fe2O3 + MnO  \n",
      "0   ...   709   56  117  47  40    9  139     s         25.99        65.74  \n",
      "1   ...  1046  190  305  61  25  125  528     s         28.16        68.59  \n",
      "2   ...  1082  146  263  59  16   83  263     s         29.83        59.08  \n",
      "3   ...   207   27  150  21   0  106  132     s         23.20        77.83  \n",
      "4   ...   590   57  109  57  69   10  149     s         37.47        55.21  \n",
      "5   ...   539  211  466  54  34  169  441     s         31.92        55.14  \n",
      "6   ...   681   60   92  48  34    4  130     s         27.83        67.68  \n",
      "7   ...   258   35  317  25   0  121  142     s         17.66        77.26  \n",
      "8   ...   373  124  154  32  14  105  202     s         23.08        71.66  \n",
      "9   ...   142   24   94   5  29   90   52     s          7.72        79.37  \n",
      "10  ...   779  150  356  56  36  150  295     s         28.48        68.68  \n",
      "11  ...   358   63  143  25  25   77  249     s         21.32        79.24  \n",
      "12  ...    96   27   95  11   0   94  163     s         17.57        86.95  \n",
      "13  ...   312   61  180  35  37  102  160     s         24.62        59.09  \n",
      "14  ...   665   56  231  28   0   92  189     s         15.64        83.93  \n",
      "15  ...  1024   88  240  55  45    0  314     s         41.43        53.79  \n",
      "16  ...  1051  119  293  65  33    8  369     s         39.83        53.90  \n",
      "17  ...   506   85  102  55  46    0  247     s         30.27        55.85  \n",
      "18  ...   658  107  314  78  27   31  162     s         39.50        55.17  \n",
      "19  ...   674   80  104  52  58   10  178     s         36.40        61.24  \n",
      "20  ...   734   87  161  57  42    9  146     s         35.14        62.11  \n",
      "21  ...   462   54   58  46  73    0  115     s         35.60        62.83  \n",
      "22  ...   471   69  169  53  48   10  424     s         35.25        61.73  \n",
      "23  ...   603   87  211  47  27    0  232     s         37.46        57.35  \n",
      "24  ...   529   71  162  55  59    0  352     s         43.50        52.13  \n",
      "25  ...   531   96  111  44  61   44  256     s         26.84        69.52  \n",
      "26  ...   672   26   60  38  35    7  160     s         27.75        66.62  \n",
      "27  ...  1093  164  207  70  69    0  391     s         39.66        53.63  \n",
      "28  ...   454   42  160  37  43    3  391     s         27.61        67.38  \n",
      "29  ...   455   46  149  35   0   10   94     s         25.80        74.80  \n",
      "30  ...   451   69  216  34   0    0   98     s         20.01        80.55  \n",
      "31  ...  1341  144  237  66   0    0  398     s         37.36        56.06  \n",
      "32  ...  1018   95  168  70   0  112  464     s         31.60        65.14  \n",
      "33  ...   994   86  222  51  47    0  836     s         34.60        59.70  \n",
      "34  ...   546  151  287  68  42   19  194     s         36.87        58.63  \n",
      "35  ...  1006   94  332  63  44  137   94     s         11.23        77.74  \n",
      "36  ...   319   98  156  36  69  206  491     s         21.02        74.53  \n",
      "37  ...   610  139  123  44  40  221   93     s         14.14        72.85  \n",
      "\n",
      "[38 rows x 23 columns]\n"
     ]
    }
   ],
   "source": [
    "df[\"SiO2 + Al2O3\"] = df[\"SiO2\"] + df[\"Al2O3\"]\n",
    "df[\"Fe2O3 + MnO\"] = df[\"Fe2O3\"] + df[\"MnO\"]\n",
    "\n",
    "print(df)"
   ]
  },
  {
   "cell_type": "code",
   "execution_count": 7,
   "metadata": {},
   "outputs": [
    {
     "data": {
      "image/png": "[encoded data removed]",
      "text/plain": [
       "<Figure size 360x360 with 1 Axes>"
      ]
     },
     "metadata": {
      "needs_background": "light"
     },
     "output_type": "display_data"
    },
    {
     "data": {
      "image/png": "[encoded data removed]",
      "text/plain": [
       "<Figure size 360x360 with 1 Axes>"
      ]
     },
     "metadata": {
      "needs_background": "light"
     },
     "output_type": "display_data"
    }
   ],
   "source": [
    "plots = [(\"CaO\",\"Ba\"),(\"SiO2 + Al2O3\",\"Fe2O3 + MnO\")]\n",
    "\n",
    "colors = [\"dodgerblue\",\"darkred\",\"forestgreen\",\n",
    "          \"darkorange\",\"violet\",\"yellow\",\n",
    "          \"silver\", \"darkblue\"]\n",
    "\n",
    "materials = [\"Ore\",\"Oven Slag\",\n",
    "             \"Flow Slag\",\"Plate Slag\",\"Smithing Slag\"]\n",
    "\n",
    "icon = [\"o\", \"v\", \"^\", \"<\", \">\",]\n",
    "\n",
    "for p in plots:\n",
    "    e1 = p[0]\n",
    "    e2 = p[1]\n",
    "    fig, ax = plt.subplots(1, figsize=(5,5))\n",
    "    for mat, c, i in zip(materials, colors, icon):\n",
    "        x = df.loc[df[\"Material\"]== mat, e1]\n",
    "        y = df.loc[df[\"Material\"]== mat, e2]\n",
    "        ax.scatter(x, y, label = mat,  color = c,marker=i, s = 40)\n",
    "    ax.legend()\n",
    "    #ax.set(yscale=\"log\",xscale=\"log\") \n",
    "    plt.xlabel(e1, fontsize=10)\n",
    "    plt.ylabel(e2, fontsize=10)\n"
   ]
  },
  {
   "cell_type": "code",
   "execution_count": 8,
   "metadata": {},
   "outputs": [],
   "source": [
    "dfw=pd.read_csv(\"./weight.csv\", sep = \",\")"
   ]
  },
  {
   "cell_type": "code",
   "execution_count": 9,
   "metadata": {},
   "outputs": [
    {
     "data": {
      "text/html": [
       "<div>\n",
       "<style scoped>\n",
       "    .dataframe tbody tr th:only-of-type {\n",
       "        vertical-align: middle;\n",
       "    }\n",
       "\n",
       "    .dataframe tbody tr th {\n",
       "        vertical-align: top;\n",
       "    }\n",
       "\n",
       "    .dataframe thead th {\n",
       "        text-align: right;\n",
       "    }\n",
       "</style>\n",
       "<table border=\"1\" class=\"dataframe\">\n",
       "  <thead>\n",
       "    <tr style=\"text-align: right;\">\n",
       "      <th></th>\n",
       "      <th>Material</th>\n",
       "      <th>Weight</th>\n",
       "    </tr>\n",
       "  </thead>\n",
       "  <tbody>\n",
       "    <tr>\n",
       "      <th>0</th>\n",
       "      <td>Ore</td>\n",
       "      <td>0.010</td>\n",
       "    </tr>\n",
       "    <tr>\n",
       "      <th>1</th>\n",
       "      <td>Ore</td>\n",
       "      <td>0.040</td>\n",
       "    </tr>\n",
       "    <tr>\n",
       "      <th>2</th>\n",
       "      <td>Ore</td>\n",
       "      <td>0.175</td>\n",
       "    </tr>\n",
       "    <tr>\n",
       "      <th>3</th>\n",
       "      <td>Oven Slag</td>\n",
       "      <td>0.040</td>\n",
       "    </tr>\n",
       "    <tr>\n",
       "      <th>4</th>\n",
       "      <td>Oven Slag</td>\n",
       "      <td>0.035</td>\n",
       "    </tr>\n",
       "    <tr>\n",
       "      <th>5</th>\n",
       "      <td>Oven Slag</td>\n",
       "      <td>0.020</td>\n",
       "    </tr>\n",
       "    <tr>\n",
       "      <th>6</th>\n",
       "      <td>Oven Slag</td>\n",
       "      <td>0.150</td>\n",
       "    </tr>\n",
       "    <tr>\n",
       "      <th>7</th>\n",
       "      <td>Oven Slag</td>\n",
       "      <td>0.040</td>\n",
       "    </tr>\n",
       "    <tr>\n",
       "      <th>8</th>\n",
       "      <td>Oven Slag</td>\n",
       "      <td>0.360</td>\n",
       "    </tr>\n",
       "    <tr>\n",
       "      <th>9</th>\n",
       "      <td>Plate Slag</td>\n",
       "      <td>0.040</td>\n",
       "    </tr>\n",
       "    <tr>\n",
       "      <th>10</th>\n",
       "      <td>Plate Slag</td>\n",
       "      <td>0.020</td>\n",
       "    </tr>\n",
       "    <tr>\n",
       "      <th>11</th>\n",
       "      <td>Plate Slag</td>\n",
       "      <td>0.035</td>\n",
       "    </tr>\n",
       "    <tr>\n",
       "      <th>12</th>\n",
       "      <td>Plate Slag</td>\n",
       "      <td>0.025</td>\n",
       "    </tr>\n",
       "    <tr>\n",
       "      <th>13</th>\n",
       "      <td>Plate Slag</td>\n",
       "      <td>0.010</td>\n",
       "    </tr>\n",
       "    <tr>\n",
       "      <th>14</th>\n",
       "      <td>Plate Slag</td>\n",
       "      <td>0.020</td>\n",
       "    </tr>\n",
       "    <tr>\n",
       "      <th>15</th>\n",
       "      <td>Plate Slag</td>\n",
       "      <td>0.140</td>\n",
       "    </tr>\n",
       "    <tr>\n",
       "      <th>16</th>\n",
       "      <td>Plate Slag</td>\n",
       "      <td>0.055</td>\n",
       "    </tr>\n",
       "    <tr>\n",
       "      <th>17</th>\n",
       "      <td>Plate Slag</td>\n",
       "      <td>0.035</td>\n",
       "    </tr>\n",
       "    <tr>\n",
       "      <th>18</th>\n",
       "      <td>Plate Slag</td>\n",
       "      <td>0.255</td>\n",
       "    </tr>\n",
       "    <tr>\n",
       "      <th>19</th>\n",
       "      <td>Plate Slag</td>\n",
       "      <td>0.180</td>\n",
       "    </tr>\n",
       "    <tr>\n",
       "      <th>20</th>\n",
       "      <td>Plate Slag</td>\n",
       "      <td>0.040</td>\n",
       "    </tr>\n",
       "    <tr>\n",
       "      <th>21</th>\n",
       "      <td>Plate Slag</td>\n",
       "      <td>0.565</td>\n",
       "    </tr>\n",
       "    <tr>\n",
       "      <th>22</th>\n",
       "      <td>Flow Slag</td>\n",
       "      <td>0.020</td>\n",
       "    </tr>\n",
       "    <tr>\n",
       "      <th>23</th>\n",
       "      <td>Flow Slag</td>\n",
       "      <td>0.065</td>\n",
       "    </tr>\n",
       "    <tr>\n",
       "      <th>24</th>\n",
       "      <td>Flow Slag</td>\n",
       "      <td>0.045</td>\n",
       "    </tr>\n",
       "    <tr>\n",
       "      <th>25</th>\n",
       "      <td>Flow Slag</td>\n",
       "      <td>0.565</td>\n",
       "    </tr>\n",
       "    <tr>\n",
       "      <th>26</th>\n",
       "      <td>Flow Slag</td>\n",
       "      <td>0.150</td>\n",
       "    </tr>\n",
       "    <tr>\n",
       "      <th>27</th>\n",
       "      <td>Flow Slag</td>\n",
       "      <td>0.020</td>\n",
       "    </tr>\n",
       "    <tr>\n",
       "      <th>28</th>\n",
       "      <td>Flow Slag</td>\n",
       "      <td>0.015</td>\n",
       "    </tr>\n",
       "    <tr>\n",
       "      <th>29</th>\n",
       "      <td>Flow Slag</td>\n",
       "      <td>0.040</td>\n",
       "    </tr>\n",
       "    <tr>\n",
       "      <th>30</th>\n",
       "      <td>Flow Slag</td>\n",
       "      <td>0.165</td>\n",
       "    </tr>\n",
       "    <tr>\n",
       "      <th>31</th>\n",
       "      <td>Flow Slag</td>\n",
       "      <td>0.040</td>\n",
       "    </tr>\n",
       "    <tr>\n",
       "      <th>32</th>\n",
       "      <td>Flow Slag</td>\n",
       "      <td>0.015</td>\n",
       "    </tr>\n",
       "    <tr>\n",
       "      <th>33</th>\n",
       "      <td>Flow Slag</td>\n",
       "      <td>0.015</td>\n",
       "    </tr>\n",
       "    <tr>\n",
       "      <th>34</th>\n",
       "      <td>Flow Slag</td>\n",
       "      <td>0.069</td>\n",
       "    </tr>\n",
       "    <tr>\n",
       "      <th>35</th>\n",
       "      <td>Flow Slag</td>\n",
       "      <td>0.225</td>\n",
       "    </tr>\n",
       "    <tr>\n",
       "      <th>36</th>\n",
       "      <td>Smithing Slag</td>\n",
       "      <td>0.225</td>\n",
       "    </tr>\n",
       "    <tr>\n",
       "      <th>37</th>\n",
       "      <td>Smithing Slag</td>\n",
       "      <td>0.220</td>\n",
       "    </tr>\n",
       "    <tr>\n",
       "      <th>38</th>\n",
       "      <td>Smithing Slag</td>\n",
       "      <td>0.140</td>\n",
       "    </tr>\n",
       "    <tr>\n",
       "      <th>39</th>\n",
       "      <td>Smithing Slag</td>\n",
       "      <td>0.735</td>\n",
       "    </tr>\n",
       "  </tbody>\n",
       "</table>\n",
       "</div>"
      ],
      "text/plain": [
       "         Material  Weight\n",
       "0             Ore   0.010\n",
       "1             Ore   0.040\n",
       "2             Ore   0.175\n",
       "3       Oven Slag   0.040\n",
       "4       Oven Slag   0.035\n",
       "5       Oven Slag   0.020\n",
       "6       Oven Slag   0.150\n",
       "7       Oven Slag   0.040\n",
       "8       Oven Slag   0.360\n",
       "9      Plate Slag   0.040\n",
       "10     Plate Slag   0.020\n",
       "11     Plate Slag   0.035\n",
       "12     Plate Slag   0.025\n",
       "13     Plate Slag   0.010\n",
       "14     Plate Slag   0.020\n",
       "15     Plate Slag   0.140\n",
       "16     Plate Slag   0.055\n",
       "17     Plate Slag   0.035\n",
       "18     Plate Slag   0.255\n",
       "19     Plate Slag   0.180\n",
       "20     Plate Slag   0.040\n",
       "21     Plate Slag   0.565\n",
       "22      Flow Slag   0.020\n",
       "23      Flow Slag   0.065\n",
       "24      Flow Slag   0.045\n",
       "25      Flow Slag   0.565\n",
       "26      Flow Slag   0.150\n",
       "27      Flow Slag   0.020\n",
       "28      Flow Slag   0.015\n",
       "29      Flow Slag   0.040\n",
       "30      Flow Slag   0.165\n",
       "31      Flow Slag   0.040\n",
       "32      Flow Slag   0.015\n",
       "33      Flow Slag   0.015\n",
       "34      Flow Slag   0.069\n",
       "35      Flow Slag   0.225\n",
       "36  Smithing Slag   0.225\n",
       "37  Smithing Slag   0.220\n",
       "38  Smithing Slag   0.140\n",
       "39  Smithing Slag   0.735"
      ]
     },
     "execution_count": 9,
     "metadata": {},
     "output_type": "execute_result"
    }
   ],
   "source": [
    "dfw"
   ]
  },
  {
   "cell_type": "code",
   "execution_count": 10,
   "metadata": {},
   "outputs": [
    {
     "data": {
      "text/plain": [
       "<matplotlib.axes._subplots.AxesSubplot at 0x7ff6009a5f40>"
      ]
     },
     "execution_count": 10,
     "metadata": {},
     "output_type": "execute_result"
    },
    {
     "data": {
      "image/png": "[encoded data removed]",
      "text/plain": [
       "<Figure size 720x432 with 1 Axes>"
      ]
     },
     "metadata": {
      "needs_background": "light"
     },
     "output_type": "display_data"
    }
   ],
   "source": [
    "fig, ax = plt.subplots(1, figsize=(10,6))\n",
    "sns.swarmplot(x = dfw[\"Material\"], y = dfw[\"Weight\"], palette= \"dark\", ax = ax, color = 0.25)\n",
    "sns.boxplot(x = dfw[\"Material\"], y = dfw[\"Weight\"], palette= \"pastel\", ax = ax)"
   ]
  },
  {
   "cell_type": "code",
   "execution_count": null,
   "metadata": {},
   "outputs": [],
   "source": []
  },
  {
   "cell_type": "code",
   "execution_count": null,
   "metadata": {},
   "outputs": [],
   "source": []
  },
  {
   "cell_type": "code",
   "execution_count": null,
   "metadata": {},
   "outputs": [],
   "source": []
  }
 ],
 "metadata": {
  "kernelspec": {
   "display_name": "Python 3",
   "language": "python",
   "name": "python3"
  },
  "language_info": {
   "codemirror_mode": {
    "name": "ipython",
    "version": 3
   },
   "file_extension": ".py",
   "mimetype": "text/x-python",
   "name": "python",
   "nbconvert_exporter": "python",
   "pygments_lexer": "ipython3",
   "version": "3.8.10"
  }
 },
 "nbformat": 4,
 "nbformat_minor": 4
}
